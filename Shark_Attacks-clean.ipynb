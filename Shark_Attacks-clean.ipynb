{
 "cells": [
  {
   "cell_type": "code",
   "execution_count": 1,
   "id": "7915739d-d599-4cf8-90e0-6b49505980db",
   "metadata": {},
   "outputs": [],
   "source": [
    "import pandas as pd"
   ]
  },
  {
   "cell_type": "code",
   "execution_count": 2,
   "id": "bd5f8c99-9140-4708-b99c-a4c848859bf8",
   "metadata": {},
   "outputs": [],
   "source": [
    "attacks_df = pd.read_excel(\"https://www.sharkattackfile.net/spreadsheets/GSAF5.xls\")"
   ]
  },
  {
   "cell_type": "code",
   "execution_count": 3,
   "id": "20d6a277-f04c-403b-b2fe-070967b15c3b",
   "metadata": {},
   "outputs": [
    {
     "data": {
      "text/html": [
       "<div>\n",
       "<style scoped>\n",
       "    .dataframe tbody tr th:only-of-type {\n",
       "        vertical-align: middle;\n",
       "    }\n",
       "\n",
       "    .dataframe tbody tr th {\n",
       "        vertical-align: top;\n",
       "    }\n",
       "\n",
       "    .dataframe thead th {\n",
       "        text-align: right;\n",
       "    }\n",
       "</style>\n",
       "<table border=\"1\" class=\"dataframe\">\n",
       "  <thead>\n",
       "    <tr style=\"text-align: right;\">\n",
       "      <th></th>\n",
       "      <th>Date</th>\n",
       "      <th>Year</th>\n",
       "      <th>Type</th>\n",
       "      <th>Country</th>\n",
       "      <th>State</th>\n",
       "      <th>Location</th>\n",
       "      <th>Activity</th>\n",
       "      <th>Name</th>\n",
       "      <th>Sex</th>\n",
       "      <th>Age</th>\n",
       "      <th>...</th>\n",
       "      <th>Species</th>\n",
       "      <th>Source</th>\n",
       "      <th>pdf</th>\n",
       "      <th>href formula</th>\n",
       "      <th>href</th>\n",
       "      <th>Case Number</th>\n",
       "      <th>Case Number.1</th>\n",
       "      <th>original order</th>\n",
       "      <th>Unnamed: 21</th>\n",
       "      <th>Unnamed: 22</th>\n",
       "    </tr>\n",
       "  </thead>\n",
       "  <tbody>\n",
       "    <tr>\n",
       "      <th>0</th>\n",
       "      <td>NaN</td>\n",
       "      <td>NaN</td>\n",
       "      <td>NaN</td>\n",
       "      <td>NaN</td>\n",
       "      <td>NaN</td>\n",
       "      <td>NaN</td>\n",
       "      <td>NaN</td>\n",
       "      <td>NaN</td>\n",
       "      <td>NaN</td>\n",
       "      <td>NaN</td>\n",
       "      <td>...</td>\n",
       "      <td>NaN</td>\n",
       "      <td>NaN</td>\n",
       "      <td>NaN</td>\n",
       "      <td>NaN</td>\n",
       "      <td>NaN</td>\n",
       "      <td>NaN</td>\n",
       "      <td>NaN</td>\n",
       "      <td>NaN</td>\n",
       "      <td>NaN</td>\n",
       "      <td>NaN</td>\n",
       "    </tr>\n",
       "    <tr>\n",
       "      <th>1</th>\n",
       "      <td>y</td>\n",
       "      <td>NaN</td>\n",
       "      <td>NaN</td>\n",
       "      <td>NaN</td>\n",
       "      <td>NaN</td>\n",
       "      <td>NaN</td>\n",
       "      <td>NaN</td>\n",
       "      <td>NaN</td>\n",
       "      <td>NaN</td>\n",
       "      <td>NaN</td>\n",
       "      <td>...</td>\n",
       "      <td>NaN</td>\n",
       "      <td>NaN</td>\n",
       "      <td>NaN</td>\n",
       "      <td>NaN</td>\n",
       "      <td>NaN</td>\n",
       "      <td>NaN</td>\n",
       "      <td>NaN</td>\n",
       "      <td>NaN</td>\n",
       "      <td>NaN</td>\n",
       "      <td>NaN</td>\n",
       "    </tr>\n",
       "  </tbody>\n",
       "</table>\n",
       "<p>2 rows × 23 columns</p>\n",
       "</div>"
      ],
      "text/plain": [
       "  Date  Year Type Country State Location Activity Name  Sex  Age  ...  \\\n",
       "0  NaN   NaN  NaN     NaN   NaN      NaN      NaN  NaN  NaN  NaN  ...   \n",
       "1    y   NaN  NaN     NaN   NaN      NaN      NaN  NaN  NaN  NaN  ...   \n",
       "\n",
       "  Species  Source  pdf href formula href Case Number Case Number.1  \\\n",
       "0      NaN    NaN  NaN          NaN  NaN         NaN           NaN   \n",
       "1      NaN    NaN  NaN          NaN  NaN         NaN           NaN   \n",
       "\n",
       "  original order Unnamed: 21 Unnamed: 22  \n",
       "0            NaN         NaN         NaN  \n",
       "1            NaN         NaN         NaN  \n",
       "\n",
       "[2 rows x 23 columns]"
      ]
     },
     "execution_count": 3,
     "metadata": {},
     "output_type": "execute_result"
    }
   ],
   "source": [
    "attacks_df.head(2)"
   ]
  },
  {
   "cell_type": "code",
   "execution_count": 4,
   "id": "081fc516-9875-4c19-9a51-aff7f9ce614d",
   "metadata": {},
   "outputs": [
    {
     "data": {
      "text/plain": [
       "(6973, 23)"
      ]
     },
     "execution_count": 4,
     "metadata": {},
     "output_type": "execute_result"
    }
   ],
   "source": [
    "attacks_df.shape"
   ]
  },
  {
   "cell_type": "code",
   "execution_count": 5,
   "id": "a9d5b72e-eff4-4b72-80ae-f8e0a65919f2",
   "metadata": {},
   "outputs": [
    {
     "name": "stdout",
     "output_type": "stream",
     "text": [
      "<class 'pandas.core.frame.DataFrame'>\n",
      "RangeIndex: 6973 entries, 0 to 6972\n",
      "Data columns (total 23 columns):\n",
      " #   Column          Non-Null Count  Dtype  \n",
      "---  ------          --------------  -----  \n",
      " 0   Date            6972 non-null   object \n",
      " 1   Year            6968 non-null   float64\n",
      " 2   Type            6952 non-null   object \n",
      " 3   Country         6920 non-null   object \n",
      " 4   State           6488 non-null   object \n",
      " 5   Location        6405 non-null   object \n",
      " 6   Activity        6384 non-null   object \n",
      " 7   Name            6750 non-null   object \n",
      " 8   Sex             6391 non-null   object \n",
      " 9   Age             3975 non-null   object \n",
      " 10  Injury          6935 non-null   object \n",
      " 11  Unnamed: 11     6408 non-null   object \n",
      " 12  Time            3443 non-null   object \n",
      " 13  Species         3838 non-null   object \n",
      " 14  Source          6951 non-null   object \n",
      " 15  pdf             6799 non-null   object \n",
      " 16  href formula    6794 non-null   object \n",
      " 17  href            6796 non-null   object \n",
      " 18  Case Number     6798 non-null   object \n",
      " 19  Case Number.1   6797 non-null   object \n",
      " 20  original order  6799 non-null   float64\n",
      " 21  Unnamed: 21     1 non-null      object \n",
      " 22  Unnamed: 22     2 non-null      object \n",
      "dtypes: float64(2), object(21)\n",
      "memory usage: 1.2+ MB\n"
     ]
    }
   ],
   "source": [
    "attacks_df.info()"
   ]
  },
  {
   "cell_type": "code",
   "execution_count": 6,
   "id": "66afd4d5-b5cc-4154-97b8-4f123d427835",
   "metadata": {},
   "outputs": [
    {
     "name": "stdout",
     "output_type": "stream",
     "text": [
      "Date column has 6023 unique values\n",
      "Year column has 261 unique values\n",
      "Type column has 12 unique values\n",
      "Country column has 234 unique values\n",
      "State column has 914 unique values\n",
      "Location column has 4534 unique values\n",
      "Activity column has 1596 unique values\n",
      "Name column has 5708 unique values\n",
      "Sex column has 8 unique values\n",
      "Age column has 245 unique values\n",
      "Injury column has 4100 unique values\n",
      "Unnamed: 11 column has 12 unique values\n",
      "Time column has 423 unique values\n",
      "Species  column has 1693 unique values\n",
      "Source column has 5326 unique values\n",
      "pdf column has 6789 unique values\n",
      "href formula column has 6784 unique values\n",
      "href column has 6776 unique values\n",
      "Case Number column has 6777 unique values\n",
      "Case Number.1 column has 6775 unique values\n",
      "original order column has 6797 unique values\n",
      "Unnamed: 21 column has 1 unique values\n",
      "Unnamed: 22 column has 2 unique values\n"
     ]
    }
   ],
   "source": [
    "columns = list(attacks_df)\n",
    "\n",
    "for column in columns:\n",
    "    print(f\"{column} column has {attacks_df[column].nunique()} unique values\")"
   ]
  },
  {
   "cell_type": "code",
   "execution_count": 7,
   "id": "848d830f-8eef-40d1-b6ae-c1905efddeba",
   "metadata": {
    "scrolled": true
   },
   "outputs": [
    {
     "name": "stdout",
     "output_type": "stream",
     "text": [
      "Date\n",
      "1957                    9\n",
      "1942                    8\n",
      "1958                    7\n",
      "1941                    6\n",
      "No date                 6\n",
      "                       ..\n",
      "13-Aug-2000             1\n",
      "15-Aug-2000             1\n",
      "21-Aug-2000             1\n",
      "Reported 27-Aug-2000    1\n",
      "1845-1853               1\n",
      "Name: count, Length: 6023, dtype: int64 \n",
      "\n",
      "Year\n",
      "2015.0    143\n",
      "2017.0    139\n",
      "2016.0    131\n",
      "0.0       129\n",
      "2011.0    128\n",
      "         ... \n",
      "1785.0      1\n",
      "1784.0      1\n",
      "1783.0      1\n",
      "1780.0      1\n",
      "1822.0      1\n",
      "Name: count, Length: 261, dtype: int64 \n",
      "\n",
      "Type\n",
      "Unprovoked             5132\n",
      "Provoked                636\n",
      "Invalid                 552\n",
      "Watercraft              355\n",
      "Sea Disaster            242\n",
      "Questionable             22\n",
      "Boat                      7\n",
      " Provoked                 2\n",
      "?                         1\n",
      "Unconfirmed               1\n",
      "Unverified                1\n",
      "Under investigation       1\n",
      "Name: count, dtype: int64 \n",
      "\n",
      "Country\n",
      "USA                   2550\n",
      "AUSTRALIA             1481\n",
      "SOUTH AFRICA           597\n",
      "NEW ZEALAND            144\n",
      "BAHAMAS                136\n",
      "                      ... \n",
      "EGYPT / ISRAEL           1\n",
      "Jamaica                  1\n",
      "MEXICO                   1\n",
      "Seychelles               1\n",
      "CEYLON (SRI LANKA)       1\n",
      "Name: count, Length: 234, dtype: int64 \n",
      "\n",
      "State\n",
      "Florida              1182\n",
      "New South Wales       521\n",
      "Queensland            347\n",
      "Hawaii                341\n",
      "California            324\n",
      "                     ... \n",
      "L'Etang-Salé            1\n",
      "Kowloon Peninsula       1\n",
      "Port Shelter            1\n",
      "Laucala Island          1\n",
      "Moala Island            1\n",
      "Name: count, Length: 914, dtype: int64 \n",
      "\n",
      "Location\n",
      "New Smyrna Beach, Volusia County         191\n",
      "Daytona Beach, Volusia County             31\n",
      "Ponce Inlet, Volusia County               28\n",
      "Myrtle Beach, Horry County                22\n",
      "Melbourne Beach, Brevard County           20\n",
      "                                        ... \n",
      "Avila Beach, San Luis Obispo County        1\n",
      "Nhulunbuy                                  1\n",
      "Bakers Bay                                 1\n",
      "Near New Smyrna Jetty, Volusia County      1\n",
      "Below the English fort, Trincomalee        1\n",
      "Name: count, Length: 4534, dtype: int64 \n",
      "\n",
      "Activity\n",
      "Surfing                                                     1124\n",
      "Swimming                                                     984\n",
      "Fishing                                                      489\n",
      "Spearfishing                                                 384\n",
      "Wading                                                       176\n",
      "                                                            ... \n",
      " Diving for abalone (Hookah)                                   1\n",
      "Swimming underwater from crayfish cage to a fishing bait       1\n",
      "Ferry capsized                                                 1\n",
      "Attempting to drag hooked shark ashore by its tail             1\n",
      "Wreck of  large double sailing canoe                           1\n",
      "Name: count, Length: 1596, dtype: int64 \n",
      "\n",
      "Name\n",
      "male               680\n",
      "female             136\n",
      "boy                 23\n",
      "2 males             17\n",
      "boat                14\n",
      "                  ... \n",
      "John Demartino       1\n",
      "Rick Eckstein        1\n",
      "Don Keener           1\n",
      "Jeffrey Hauser       1\n",
      "Jules Patterson      1\n",
      "Name: count, Length: 5708, dtype: int64 \n",
      "\n",
      "Sex\n",
      "M        5596\n",
      "F         787\n",
      "M           2\n",
      "N           2\n",
      " M          1\n",
      "lli         1\n",
      "M x 2       1\n",
      ".           1\n",
      "Name: count, dtype: int64 \n",
      "\n",
      "Age\n",
      "16          91\n",
      "19          90\n",
      "17          88\n",
      "17          85\n",
      "18          85\n",
      "            ..\n",
      "84           1\n",
      "36 & 26      1\n",
      "77           1\n",
      "Teens        1\n",
      "13 or 14     1\n",
      "Name: count, Length: 245, dtype: int64 \n",
      "\n",
      "Injury\n",
      "FATAL                                                                   863\n",
      "Foot bitten                                                             100\n",
      "Survived                                                                 97\n",
      "No injury                                                                85\n",
      "Leg bitten                                                               81\n",
      "                                                                       ... \n",
      "2 lacerations on each side of Achilles tendon                             1\n",
      "PROVOKED INCIDENT Hooked shark pulled onboard bit his arm                 1\n",
      "FATAL          Hip & upper thigh bitten, femoral artery severed           1\n",
      "Left ankle lacerated                                                      1\n",
      "FATAL. \"Shark bit him in half, carrying away the lower extremities\"       1\n",
      "Name: count, Length: 4100, dtype: int64 \n",
      "\n",
      "Unnamed: 11\n",
      "N          4855\n",
      "Y          1463\n",
      "UNKNOWN      71\n",
      " N            7\n",
      "M             3\n",
      "F             3\n",
      "n             1\n",
      "Nq            1\n",
      "2017          1\n",
      "Y x 2         1\n",
      "N             1\n",
      "y             1\n",
      "Name: count, dtype: int64 \n",
      "\n",
      "Time\n",
      "Afternoon      215\n",
      "11h00          140\n",
      "Morning        135\n",
      "15h00          127\n",
      "16h00          123\n",
      "              ... \n",
      "05h45            1\n",
      "09h11            1\n",
      "13h51            1\n",
      "15h44            1\n",
      "19h00-20h00      1\n",
      "Name: count, Length: 423, dtype: int64 \n",
      "\n",
      "Species \n",
      "White shark                                                                                                                      194\n",
      "Shark involvement prior to death was not confirmed                                                                               105\n",
      "Invalid                                                                                                                          102\n",
      "Shark involvement not confirmed                                                                                                   92\n",
      "Tiger shark                                                                                                                       89\n",
      "                                                                                                                                ... \n",
      "\"black tipped\" shark                                                                                                               1\n",
      "2 sharks, 4.5 m & 3 m                                                                                                              1\n",
      "Longfin mako shark, 3.5 m [11.5'], 350-kg [772-lb]                                                                                 1\n",
      "4.9 m to 5.5 m [16' to 18'] white shark                                                                                            1\n",
      "Said to involve a grey nurse shark that leapt out of the water and  seized the boy but species identification is questionable      1\n",
      "Name: count, Length: 1693, dtype: int64 \n",
      "\n",
      "Source\n",
      "K. McMurray, TrackingSharks.com                  131\n",
      "C. Moore, GSAF                                   105\n",
      "C. Creswell, GSAF                                101\n",
      "S. Petersohn, GSAF                                82\n",
      "B. Myatt, GSAF                                    59\n",
      "                                                ... \n",
      "J. Ramsay, California Fish & Game; R. Collier      1\n",
      "E. Skeie                                           1\n",
      "South Florida Sun Sentinel, 11/19/2000, p.6B       1\n",
      "Courier-Mail, 11/24/2000, p.3                      1\n",
      "S.W. Baker                                         1\n",
      "Name: count, Length: 5326, dtype: int64 \n",
      "\n",
      "pdf\n",
      "1907.10.16.R-HongKong.pdf            2\n",
      "1921.11.27.a-b-Jack.pdf              2\n",
      "1935.06.05.R-SolomonIslands.pdf      2\n",
      "1916.12.08.a-b-German.pdf            2\n",
      "1929.03.04.a-b.Roads-Aldridge.pdf    2\n",
      "                                    ..\n",
      "2003.04.19-SD.pdf                    1\n",
      "2003.04.20.a-StephenFlowers.pdf      1\n",
      "2003.04.20.b-Albright.pdf            1\n",
      "2003.04.20.c-Ryan.pdf                1\n",
      "ND-0001-Ceylon.pdf                   1\n",
      "Name: count, Length: 6789, dtype: int64 \n",
      "\n",
      "href formula\n",
      "http://sharkattackfile.net/spreadsheets/pdf_directory/1923.00.00.a-NJ fisherman.pdf          2\n",
      "http://sharkattackfile.net/spreadsheets/pdf_directory/1934.12.23.a-b-Inman.pdf               2\n",
      "http://sharkattackfile.net/spreadsheets/pdf_directory/1929.03.04.a-b.Roads-Aldridge.pdf      2\n",
      "http://sharkattackfile.net/spreadsheets/pdf_directory/1916.07.12.a-b-Stillwell-Fisher.pdf    2\n",
      "http://sharkattackfile.net/spreadsheets/pdf_directory/1931.09.21.a-b-Holaday-Barrows.pdf     2\n",
      "                                                                                            ..\n",
      "http://sharkattackfile.net/spreadsheets/pdf_directory/2003.04.18-PatrickAFB.pdf              1\n",
      "http://sharkattackfile.net/spreadsheets/pdf_directory/2003.04.19-SD.pdf                      1\n",
      "http://sharkattackfile.net/spreadsheets/pdf_directory/2003.04.20.a-StephenFlowers.pdf        1\n",
      "http://sharkattackfile.net/spreadsheets/pdf_directory/2003.04.20.b-Albright.pdf              1\n",
      "http://sharkattackfile.net/spreadsheets/pdf_directoryND-0001-Ceylon.pdf                      1\n",
      "Name: count, Length: 6784, dtype: int64 \n",
      "\n",
      "href\n",
      "http://sharkattackfile.net/spreadsheets/pdf_directory/w014.01.25-Grant.pdf           4\n",
      "http://sharkattackfile.net/spreadsheets/pdf_directory/2014.10.02.b-Vandenberg.pdf    3\n",
      "http://sharkattackfile.net/spreadsheets/pdf_directory/1934.12.23.a-b-Inman.pdf       2\n",
      "http://sharkattackfile.net/spreadsheets/pdf_directory/1907.10.16.R-HongKong.pdf      2\n",
      "http://sharkattackfile.net/spreadsheets/pdf_directory/1916.12.08.a-b-German.pdf      2\n",
      "                                                                                    ..\n",
      "http://sharkattackfile.net/spreadsheets/pdf_directory/2003.01.03-Menking.pdf         1\n",
      "http://sharkattackfile.net/spreadsheets/pdf_directory/2003.01.17-scavenging.pdf      1\n",
      "http://sharkattackfile.net/spreadsheets/pdf_directory/2003.02.08-Purcell.pdf         1\n",
      "http://sharkattackfile.net/spreadsheets/pdf_directory/2003.02.11-Plumridge.pdf       1\n",
      "http://sharkattackfile.net/spreadsheets/pdf_directoryND-0001-Ceylon.pdf              1\n",
      "Name: count, Length: 6776, dtype: int64 \n",
      "\n",
      "Case Number\n",
      "2021.07.23      2\n",
      "1907.10.16.R    2\n",
      "2012.09.02.b    2\n",
      "2005.04.06      2\n",
      "2009.12.18      2\n",
      "               ..\n",
      "2003.01.03      1\n",
      "2003.01.17      1\n",
      "2003.02.08      1\n",
      "2003.02.11      1\n",
      "ND.0001         1\n",
      "Name: count, Length: 6777, dtype: int64 \n",
      "\n",
      "Case Number.1\n",
      "2012.09.02.b    2\n",
      "1913.08.27.R    2\n",
      "1980.07.00      2\n",
      "2021.12.06      2\n",
      "1920.00.00.b    2\n",
      "               ..\n",
      "2002.12.21      1\n",
      "2002.12.24      1\n",
      "2002.12.29      1\n",
      "2003.01.02      1\n",
      "ND.0001         1\n",
      "Name: count, Length: 6775, dtype: int64 \n",
      "\n",
      "original order\n",
      "6369.0    2\n",
      "569.0     2\n",
      "6802.0    1\n",
      "2272.0    1\n",
      "2262.0    1\n",
      "         ..\n",
      "4536.0    1\n",
      "4537.0    1\n",
      "4538.0    1\n",
      "4539.0    1\n",
      "2.0       1\n",
      "Name: count, Length: 6797, dtype: int64 \n",
      "\n",
      "Unnamed: 21\n",
      "stopped here    1\n",
      "Name: count, dtype: int64 \n",
      "\n",
      "Unnamed: 22\n",
      "Teramo             1\n",
      "change filename    1\n",
      "Name: count, dtype: int64 \n",
      "\n"
     ]
    }
   ],
   "source": [
    "for column in columns:\n",
    "    print(attacks_df[column].value_counts(),\"\\n\")"
   ]
  },
  {
   "cell_type": "code",
   "execution_count": 8,
   "id": "0f13d35d-5b10-4258-b866-c192f99c83b0",
   "metadata": {},
   "outputs": [
    {
     "data": {
      "text/plain": [
       "1"
      ]
     },
     "execution_count": 8,
     "metadata": {},
     "output_type": "execute_result"
    }
   ],
   "source": [
    "# Buscamos filas duplicadas\n",
    "attacks_df.duplicated().sum()"
   ]
  },
  {
   "cell_type": "code",
   "execution_count": 9,
   "id": "5be2e88f-4b29-41a3-b563-31913dc4b767",
   "metadata": {},
   "outputs": [],
   "source": [
    "# Eliminamos filas duplicadas\n",
    "attacks_df = attacks_df.drop_duplicates()"
   ]
  },
  {
   "cell_type": "code",
   "execution_count": 10,
   "id": "7a31a8fb-b66a-4bad-859b-20623752c0cf",
   "metadata": {},
   "outputs": [
    {
     "data": {
      "text/plain": [
       "(6972, 23)"
      ]
     },
     "execution_count": 10,
     "metadata": {},
     "output_type": "execute_result"
    }
   ],
   "source": [
    "attacks_df.shape"
   ]
  },
  {
   "cell_type": "code",
   "execution_count": 11,
   "id": "2fdfa9f9-bd15-461c-8141-f15ae38fc5af",
   "metadata": {},
   "outputs": [
    {
     "data": {
      "text/plain": [
       "Index(['Date', 'Year', 'Type', 'Country', 'State', 'Location', 'Activity',\n",
       "       'Name', 'Sex', 'Age', 'Injury', 'Unnamed: 11', 'Time', 'Species ',\n",
       "       'Source', 'pdf', 'href formula', 'href', 'Case Number', 'Case Number.1',\n",
       "       'original order', 'Unnamed: 21', 'Unnamed: 22'],\n",
       "      dtype='object')"
      ]
     },
     "execution_count": 11,
     "metadata": {},
     "output_type": "execute_result"
    }
   ],
   "source": [
    "attacks_df.columns"
   ]
  },
  {
   "cell_type": "code",
   "execution_count": 12,
   "id": "d3a133fc-b846-4af0-95c3-1dad48dce147",
   "metadata": {},
   "outputs": [
    {
     "data": {
      "text/plain": [
       "1263"
      ]
     },
     "execution_count": 12,
     "metadata": {},
     "output_type": "execute_result"
    }
   ],
   "source": [
    "attacks_df.Name.duplicated().sum()"
   ]
  },
  {
   "cell_type": "code",
   "execution_count": 13,
   "id": "82dd0e57-d155-4973-a85a-4c74882f3e4f",
   "metadata": {},
   "outputs": [],
   "source": [
    "# Quitar las columnas que no nos interesan\n",
    "clean_df = attacks_df.drop(columns = ['Location', 'Sex', 'Age', 'Unnamed: 11', 'Time', 'Species ', 'Source', 'pdf', 'href formula', 'href', 'Case Number', 'Case Number.1', 'original order', 'Unnamed: 21', 'Unnamed: 22'])"
   ]
  },
  {
   "cell_type": "code",
   "execution_count": 14,
   "id": "a627a4ab-8784-4648-978a-eaf7976196a2",
   "metadata": {},
   "outputs": [
    {
     "data": {
      "text/plain": [
       "Index(['Date', 'Year', 'Type', 'Country', 'State', 'Activity', 'Name',\n",
       "       'Injury'],\n",
       "      dtype='object')"
      ]
     },
     "execution_count": 14,
     "metadata": {},
     "output_type": "execute_result"
    }
   ],
   "source": [
    "clean_df.columns"
   ]
  },
  {
   "cell_type": "code",
   "execution_count": 15,
   "id": "0e9ced98-dbcf-4e27-8750-2a1c84f2e1f7",
   "metadata": {},
   "outputs": [],
   "source": [
    "# Quitamos también Name porque hemos visto que sus datos no son relevantes, hay mucho male y female\n",
    "clean_df = clean_df.drop(columns = ['Name'])"
   ]
  },
  {
   "cell_type": "code",
   "execution_count": 16,
   "id": "5afd8a8b-aae2-4806-8b81-028120caf990",
   "metadata": {},
   "outputs": [
    {
     "data": {
      "text/plain": [
       "Index(['Date', 'Year', 'Type', 'Country', 'State', 'Activity', 'Injury'], dtype='object')"
      ]
     },
     "execution_count": 16,
     "metadata": {},
     "output_type": "execute_result"
    }
   ],
   "source": [
    "clean_df.columns"
   ]
  },
  {
   "cell_type": "code",
   "execution_count": 17,
   "id": "1197d6a8-cf51-46dd-aaf5-c97d7b2aa381",
   "metadata": {},
   "outputs": [
    {
     "data": {
      "text/plain": [
       "(6972, 7)"
      ]
     },
     "execution_count": 17,
     "metadata": {},
     "output_type": "execute_result"
    }
   ],
   "source": [
    "clean_df.shape"
   ]
  },
  {
   "cell_type": "code",
   "execution_count": 18,
   "id": "c030cdf9-722f-4ed8-97e9-f07949bf4c8d",
   "metadata": {},
   "outputs": [
    {
     "data": {
      "text/html": [
       "<div>\n",
       "<style scoped>\n",
       "    .dataframe tbody tr th:only-of-type {\n",
       "        vertical-align: middle;\n",
       "    }\n",
       "\n",
       "    .dataframe tbody tr th {\n",
       "        vertical-align: top;\n",
       "    }\n",
       "\n",
       "    .dataframe thead th {\n",
       "        text-align: right;\n",
       "    }\n",
       "</style>\n",
       "<table border=\"1\" class=\"dataframe\">\n",
       "  <thead>\n",
       "    <tr style=\"text-align: right;\">\n",
       "      <th></th>\n",
       "      <th>Date</th>\n",
       "      <th>Year</th>\n",
       "      <th>Type</th>\n",
       "      <th>Country</th>\n",
       "      <th>State</th>\n",
       "      <th>Activity</th>\n",
       "      <th>Injury</th>\n",
       "    </tr>\n",
       "  </thead>\n",
       "  <tbody>\n",
       "    <tr>\n",
       "      <th>0</th>\n",
       "      <td>NaN</td>\n",
       "      <td>NaN</td>\n",
       "      <td>NaN</td>\n",
       "      <td>NaN</td>\n",
       "      <td>NaN</td>\n",
       "      <td>NaN</td>\n",
       "      <td>NaN</td>\n",
       "    </tr>\n",
       "    <tr>\n",
       "      <th>1</th>\n",
       "      <td>y</td>\n",
       "      <td>NaN</td>\n",
       "      <td>NaN</td>\n",
       "      <td>NaN</td>\n",
       "      <td>NaN</td>\n",
       "      <td>NaN</td>\n",
       "      <td>NaN</td>\n",
       "    </tr>\n",
       "    <tr>\n",
       "      <th>2</th>\n",
       "      <td>x</td>\n",
       "      <td>NaN</td>\n",
       "      <td>NaN</td>\n",
       "      <td>NaN</td>\n",
       "      <td>NaN</td>\n",
       "      <td>NaN</td>\n",
       "      <td>NaN</td>\n",
       "    </tr>\n",
       "    <tr>\n",
       "      <th>3</th>\n",
       "      <td>2024-09-16 00:00:00</td>\n",
       "      <td>2024.0</td>\n",
       "      <td>Unprovoked</td>\n",
       "      <td>Morocco</td>\n",
       "      <td>Southern Morocco</td>\n",
       "      <td>Swimming - jumped off yacht</td>\n",
       "      <td>Leg severed</td>\n",
       "    </tr>\n",
       "    <tr>\n",
       "      <th>4</th>\n",
       "      <td>2024-08-26 00:00:00</td>\n",
       "      <td>2024.0</td>\n",
       "      <td>Unprovoked</td>\n",
       "      <td>Jamaica</td>\n",
       "      <td>Montego Bay</td>\n",
       "      <td>Spearfishing</td>\n",
       "      <td>Head right arm and leg severed</td>\n",
       "    </tr>\n",
       "  </tbody>\n",
       "</table>\n",
       "</div>"
      ],
      "text/plain": [
       "                  Date    Year        Type  Country             State  \\\n",
       "0                  NaN     NaN         NaN      NaN               NaN   \n",
       "1                    y     NaN         NaN      NaN               NaN   \n",
       "2                    x     NaN         NaN      NaN               NaN   \n",
       "3  2024-09-16 00:00:00  2024.0  Unprovoked  Morocco  Southern Morocco   \n",
       "4  2024-08-26 00:00:00  2024.0  Unprovoked  Jamaica       Montego Bay   \n",
       "\n",
       "                      Activity                          Injury  \n",
       "0                          NaN                             NaN  \n",
       "1                          NaN                             NaN  \n",
       "2                          NaN                             NaN  \n",
       "3  Swimming - jumped off yacht                     Leg severed  \n",
       "4                 Spearfishing  Head right arm and leg severed  "
      ]
     },
     "execution_count": 18,
     "metadata": {},
     "output_type": "execute_result"
    }
   ],
   "source": [
    "clean_df.head(5)"
   ]
  },
  {
   "cell_type": "code",
   "execution_count": 19,
   "id": "49916ee2-dba9-4928-8303-04557f8d78b0",
   "metadata": {},
   "outputs": [
    {
     "data": {
      "text/html": [
       "<div>\n",
       "<style scoped>\n",
       "    .dataframe tbody tr th:only-of-type {\n",
       "        vertical-align: middle;\n",
       "    }\n",
       "\n",
       "    .dataframe tbody tr th {\n",
       "        vertical-align: top;\n",
       "    }\n",
       "\n",
       "    .dataframe thead th {\n",
       "        text-align: right;\n",
       "    }\n",
       "</style>\n",
       "<table border=\"1\" class=\"dataframe\">\n",
       "  <thead>\n",
       "    <tr style=\"text-align: right;\">\n",
       "      <th></th>\n",
       "      <th>Date</th>\n",
       "      <th>Year</th>\n",
       "      <th>Type</th>\n",
       "      <th>Country</th>\n",
       "      <th>State</th>\n",
       "      <th>Activity</th>\n",
       "      <th>Injury</th>\n",
       "    </tr>\n",
       "  </thead>\n",
       "  <tbody>\n",
       "    <tr>\n",
       "      <th>3</th>\n",
       "      <td>2024-09-16 00:00:00</td>\n",
       "      <td>2024.0</td>\n",
       "      <td>Unprovoked</td>\n",
       "      <td>Morocco</td>\n",
       "      <td>Southern Morocco</td>\n",
       "      <td>Swimming - jumped off yacht</td>\n",
       "      <td>Leg severed</td>\n",
       "    </tr>\n",
       "    <tr>\n",
       "      <th>4</th>\n",
       "      <td>2024-08-26 00:00:00</td>\n",
       "      <td>2024.0</td>\n",
       "      <td>Unprovoked</td>\n",
       "      <td>Jamaica</td>\n",
       "      <td>Montego Bay</td>\n",
       "      <td>Spearfishing</td>\n",
       "      <td>Head right arm and leg severed</td>\n",
       "    </tr>\n",
       "    <tr>\n",
       "      <th>5</th>\n",
       "      <td>2024-08-06 00:00:00</td>\n",
       "      <td>2024.0</td>\n",
       "      <td>Unprovoked</td>\n",
       "      <td>Belize</td>\n",
       "      <td>Gulf of Honduras</td>\n",
       "      <td>Swimming - Diving</td>\n",
       "      <td>Right lower leg amputated after serious bite</td>\n",
       "    </tr>\n",
       "    <tr>\n",
       "      <th>6</th>\n",
       "      <td>2024-07-23 00:00:00</td>\n",
       "      <td>2024.0</td>\n",
       "      <td>Unprovoked</td>\n",
       "      <td>Australia</td>\n",
       "      <td>NSW</td>\n",
       "      <td>Surfing</td>\n",
       "      <td>Serious injury to leg</td>\n",
       "    </tr>\n",
       "    <tr>\n",
       "      <th>7</th>\n",
       "      <td>2024-07-18 00:00:00</td>\n",
       "      <td>2024.0</td>\n",
       "      <td>Unprovoked</td>\n",
       "      <td>Australia</td>\n",
       "      <td>Western Australia</td>\n",
       "      <td>Surfing</td>\n",
       "      <td>Minor injury to lower left leg</td>\n",
       "    </tr>\n",
       "    <tr>\n",
       "      <th>...</th>\n",
       "      <td>...</td>\n",
       "      <td>...</td>\n",
       "      <td>...</td>\n",
       "      <td>...</td>\n",
       "      <td>...</td>\n",
       "      <td>...</td>\n",
       "      <td>...</td>\n",
       "    </tr>\n",
       "    <tr>\n",
       "      <th>6968</th>\n",
       "      <td>Before 1903</td>\n",
       "      <td>0.0</td>\n",
       "      <td>Unprovoked</td>\n",
       "      <td>AUSTRALIA</td>\n",
       "      <td>Western Australia</td>\n",
       "      <td>Diving</td>\n",
       "      <td>FATAL</td>\n",
       "    </tr>\n",
       "    <tr>\n",
       "      <th>6969</th>\n",
       "      <td>Before 1903</td>\n",
       "      <td>0.0</td>\n",
       "      <td>Unprovoked</td>\n",
       "      <td>AUSTRALIA</td>\n",
       "      <td>Western Australia</td>\n",
       "      <td>Pearl diving</td>\n",
       "      <td>FATAL</td>\n",
       "    </tr>\n",
       "    <tr>\n",
       "      <th>6970</th>\n",
       "      <td>1900-1905</td>\n",
       "      <td>0.0</td>\n",
       "      <td>Unprovoked</td>\n",
       "      <td>USA</td>\n",
       "      <td>North Carolina</td>\n",
       "      <td>Swimming</td>\n",
       "      <td>FATAL</td>\n",
       "    </tr>\n",
       "    <tr>\n",
       "      <th>6971</th>\n",
       "      <td>1883-1889</td>\n",
       "      <td>0.0</td>\n",
       "      <td>Unprovoked</td>\n",
       "      <td>PANAMA</td>\n",
       "      <td>NaN</td>\n",
       "      <td>NaN</td>\n",
       "      <td>FATAL</td>\n",
       "    </tr>\n",
       "    <tr>\n",
       "      <th>6972</th>\n",
       "      <td>1845-1853</td>\n",
       "      <td>0.0</td>\n",
       "      <td>Unprovoked</td>\n",
       "      <td>CEYLON (SRI LANKA)</td>\n",
       "      <td>Eastern Province</td>\n",
       "      <td>Swimming</td>\n",
       "      <td>FATAL. \"Shark bit him in half, carrying away t...</td>\n",
       "    </tr>\n",
       "  </tbody>\n",
       "</table>\n",
       "<p>6968 rows × 7 columns</p>\n",
       "</div>"
      ],
      "text/plain": [
       "                     Date    Year        Type             Country  \\\n",
       "3     2024-09-16 00:00:00  2024.0  Unprovoked             Morocco   \n",
       "4     2024-08-26 00:00:00  2024.0  Unprovoked             Jamaica   \n",
       "5     2024-08-06 00:00:00  2024.0  Unprovoked              Belize   \n",
       "6     2024-07-23 00:00:00  2024.0  Unprovoked           Australia   \n",
       "7     2024-07-18 00:00:00  2024.0  Unprovoked           Australia   \n",
       "...                   ...     ...         ...                 ...   \n",
       "6968          Before 1903     0.0  Unprovoked           AUSTRALIA   \n",
       "6969          Before 1903     0.0  Unprovoked           AUSTRALIA   \n",
       "6970            1900-1905     0.0  Unprovoked                 USA   \n",
       "6971            1883-1889     0.0  Unprovoked              PANAMA   \n",
       "6972            1845-1853     0.0  Unprovoked  CEYLON (SRI LANKA)   \n",
       "\n",
       "                  State                     Activity  \\\n",
       "3      Southern Morocco  Swimming - jumped off yacht   \n",
       "4           Montego Bay                 Spearfishing   \n",
       "5      Gulf of Honduras           Swimming - Diving    \n",
       "6                   NSW                      Surfing   \n",
       "7     Western Australia                      Surfing   \n",
       "...                 ...                          ...   \n",
       "6968  Western Australia                       Diving   \n",
       "6969  Western Australia                 Pearl diving   \n",
       "6970     North Carolina                     Swimming   \n",
       "6971                NaN                          NaN   \n",
       "6972   Eastern Province                     Swimming   \n",
       "\n",
       "                                                 Injury  \n",
       "3                                           Leg severed  \n",
       "4                        Head right arm and leg severed  \n",
       "5          Right lower leg amputated after serious bite  \n",
       "6                                 Serious injury to leg  \n",
       "7                        Minor injury to lower left leg  \n",
       "...                                                 ...  \n",
       "6968                                              FATAL  \n",
       "6969                                              FATAL  \n",
       "6970                                              FATAL  \n",
       "6971                                              FATAL  \n",
       "6972  FATAL. \"Shark bit him in half, carrying away t...  \n",
       "\n",
       "[6968 rows x 7 columns]"
      ]
     },
     "execution_count": 19,
     "metadata": {},
     "output_type": "execute_result"
    }
   ],
   "source": [
    "# Quitamos las filas que tienen más de 3 NaNs\n",
    "clean_df = clean_df.dropna(thresh = 4)\n",
    "clean_df"
   ]
  },
  {
   "cell_type": "code",
   "execution_count": 20,
   "id": "4a6f0b21-a6ed-46cb-adf3-c06433cdc0a3",
   "metadata": {},
   "outputs": [
    {
     "data": {
      "text/plain": [
       "Date          0\n",
       "Year          2\n",
       "Type         18\n",
       "Country      49\n",
       "State       481\n",
       "Activity    585\n",
       "Injury       34\n",
       "dtype: int64"
      ]
     },
     "execution_count": 20,
     "metadata": {},
     "output_type": "execute_result"
    }
   ],
   "source": [
    "# Comprobamos cuantos nan hay en cada columna\n",
    "clean_df.isna().sum()"
   ]
  },
  {
   "cell_type": "code",
   "execution_count": 21,
   "id": "c0ff403d-22de-47e2-aaa2-46588dac6cbd",
   "metadata": {},
   "outputs": [],
   "source": [
    "# Ponemos los titulos de las columnas en minuscula\n",
    "clean_df.columns = [column.lower() for column in clean_df.columns]"
   ]
  },
  {
   "cell_type": "code",
   "execution_count": 22,
   "id": "a9a5ff94-7e69-4914-9eff-e22eb31c3ec3",
   "metadata": {},
   "outputs": [
    {
     "data": {
      "text/html": [
       "<div>\n",
       "<style scoped>\n",
       "    .dataframe tbody tr th:only-of-type {\n",
       "        vertical-align: middle;\n",
       "    }\n",
       "\n",
       "    .dataframe tbody tr th {\n",
       "        vertical-align: top;\n",
       "    }\n",
       "\n",
       "    .dataframe thead th {\n",
       "        text-align: right;\n",
       "    }\n",
       "</style>\n",
       "<table border=\"1\" class=\"dataframe\">\n",
       "  <thead>\n",
       "    <tr style=\"text-align: right;\">\n",
       "      <th></th>\n",
       "      <th>date</th>\n",
       "      <th>year</th>\n",
       "      <th>type</th>\n",
       "      <th>country</th>\n",
       "      <th>state</th>\n",
       "      <th>activity</th>\n",
       "      <th>injury</th>\n",
       "    </tr>\n",
       "  </thead>\n",
       "  <tbody>\n",
       "    <tr>\n",
       "      <th>830</th>\n",
       "      <td>Reported 08-Jan-2017</td>\n",
       "      <td>NaN</td>\n",
       "      <td>Invalid</td>\n",
       "      <td>AUSTRALIA</td>\n",
       "      <td>Queensland</td>\n",
       "      <td>Spearfishing</td>\n",
       "      <td>No attack, shark made a threat display</td>\n",
       "    </tr>\n",
       "    <tr>\n",
       "      <th>6742</th>\n",
       "      <td>Reported 19-Aug-1836</td>\n",
       "      <td>NaN</td>\n",
       "      <td>Unprovoked</td>\n",
       "      <td>ENGLAND</td>\n",
       "      <td>Cumberland</td>\n",
       "      <td>Swimming</td>\n",
       "      <td>FATAL</td>\n",
       "    </tr>\n",
       "  </tbody>\n",
       "</table>\n",
       "</div>"
      ],
      "text/plain": [
       "                      date  year        type    country       state  \\\n",
       "830   Reported 08-Jan-2017   NaN     Invalid  AUSTRALIA  Queensland   \n",
       "6742  Reported 19-Aug-1836   NaN  Unprovoked    ENGLAND  Cumberland   \n",
       "\n",
       "          activity                                  injury  \n",
       "830   Spearfishing  No attack, shark made a threat display  \n",
       "6742      Swimming                                   FATAL  "
      ]
     },
     "execution_count": 22,
     "metadata": {},
     "output_type": "execute_result"
    }
   ],
   "source": [
    "# Vemos que falta el año pero se puede sacar de la columna date\n",
    "clean_df[clean_df.year.isnull()]"
   ]
  },
  {
   "cell_type": "code",
   "execution_count": 23,
   "id": "36d0c3de-54ab-439b-aadf-51b0880a301e",
   "metadata": {},
   "outputs": [
    {
     "data": {
      "text/plain": [
       "type\n",
       "Unprovoked             5130\n",
       "Provoked                636\n",
       "Invalid                 552\n",
       "Watercraft              355\n",
       "Sea Disaster            242\n",
       "Questionable             22\n",
       "Boat                      7\n",
       " Provoked                 2\n",
       "?                         1\n",
       "Unconfirmed               1\n",
       "Unverified                1\n",
       "Under investigation       1\n",
       "Name: count, dtype: int64"
      ]
     },
     "execution_count": 23,
     "metadata": {},
     "output_type": "execute_result"
    }
   ],
   "source": [
    "clean_df.type.value_counts()"
   ]
  },
  {
   "cell_type": "code",
   "execution_count": 24,
   "id": "fecfc92f-8117-4279-9306-3d102a5ab048",
   "metadata": {
    "scrolled": true
   },
   "outputs": [
    {
     "data": {
      "text/html": [
       "<div>\n",
       "<style scoped>\n",
       "    .dataframe tbody tr th:only-of-type {\n",
       "        vertical-align: middle;\n",
       "    }\n",
       "\n",
       "    .dataframe tbody tr th {\n",
       "        vertical-align: top;\n",
       "    }\n",
       "\n",
       "    .dataframe thead th {\n",
       "        text-align: right;\n",
       "    }\n",
       "</style>\n",
       "<table border=\"1\" class=\"dataframe\">\n",
       "  <thead>\n",
       "    <tr style=\"text-align: right;\">\n",
       "      <th></th>\n",
       "      <th>date</th>\n",
       "      <th>year</th>\n",
       "      <th>type</th>\n",
       "      <th>country</th>\n",
       "      <th>state</th>\n",
       "      <th>activity</th>\n",
       "      <th>injury</th>\n",
       "    </tr>\n",
       "  </thead>\n",
       "  <tbody>\n",
       "    <tr>\n",
       "      <th>220</th>\n",
       "      <td>01-Apr-2022</td>\n",
       "      <td>2022.0</td>\n",
       "      <td>NaN</td>\n",
       "      <td>SOUTH AFRICA</td>\n",
       "      <td>KZN</td>\n",
       "      <td>NaN</td>\n",
       "      <td>Possible drowing and scavenging</td>\n",
       "    </tr>\n",
       "    <tr>\n",
       "      <th>236</th>\n",
       "      <td>08-Feb-2022</td>\n",
       "      <td>2022.0</td>\n",
       "      <td>NaN</td>\n",
       "      <td>COSTA RICA</td>\n",
       "      <td>Guanacoste</td>\n",
       "      <td>Diving</td>\n",
       "      <td>Right forearm and left hand injured</td>\n",
       "    </tr>\n",
       "    <tr>\n",
       "      <th>257</th>\n",
       "      <td>16-Oct-2021</td>\n",
       "      <td>2021.0</td>\n",
       "      <td>NaN</td>\n",
       "      <td>AUSTRALIA</td>\n",
       "      <td>Queensland</td>\n",
       "      <td>Spearfishing</td>\n",
       "      <td>Disappeared</td>\n",
       "    </tr>\n",
       "    <tr>\n",
       "      <th>262</th>\n",
       "      <td>10-Sep-2021</td>\n",
       "      <td>2021.0</td>\n",
       "      <td>NaN</td>\n",
       "      <td>EGYPT</td>\n",
       "      <td>NaN</td>\n",
       "      <td>Swimming</td>\n",
       "      <td>Laceration to arm caused by metal object</td>\n",
       "    </tr>\n",
       "    <tr>\n",
       "      <th>283</th>\n",
       "      <td>21-Jul-2021</td>\n",
       "      <td>2021.0</td>\n",
       "      <td>NaN</td>\n",
       "      <td>USA</td>\n",
       "      <td>Florida</td>\n",
       "      <td>NaN</td>\n",
       "      <td>Small laceration to ankle, shark involvement n...</td>\n",
       "    </tr>\n",
       "    <tr>\n",
       "      <th>371</th>\n",
       "      <td>21-Oct-2020</td>\n",
       "      <td>2020.0</td>\n",
       "      <td>NaN</td>\n",
       "      <td>USA</td>\n",
       "      <td>North Carolina</td>\n",
       "      <td>Surfing</td>\n",
       "      <td>Laceration to knee and foot</td>\n",
       "    </tr>\n",
       "    <tr>\n",
       "      <th>376</th>\n",
       "      <td>21-Sep-2020</td>\n",
       "      <td>2020.0</td>\n",
       "      <td>NaN</td>\n",
       "      <td>USA</td>\n",
       "      <td>Hawaii</td>\n",
       "      <td>Swimming</td>\n",
       "      <td>Lacerations and puncture wounds to shoulder</td>\n",
       "    </tr>\n",
       "    <tr>\n",
       "      <th>380</th>\n",
       "      <td>16-Sep-2020</td>\n",
       "      <td>2020.0</td>\n",
       "      <td>NaN</td>\n",
       "      <td>USA</td>\n",
       "      <td>Florida</td>\n",
       "      <td>Swimming</td>\n",
       "      <td>Minor cuts and punctures to left foot</td>\n",
       "    </tr>\n",
       "    <tr>\n",
       "      <th>383</th>\n",
       "      <td>08-Sep-2020</td>\n",
       "      <td>2020.0</td>\n",
       "      <td>NaN</td>\n",
       "      <td>USA</td>\n",
       "      <td>Florida</td>\n",
       "      <td>Surf fishing</td>\n",
       "      <td>Hand bitten that was holding a fish PROVOKED I...</td>\n",
       "    </tr>\n",
       "    <tr>\n",
       "      <th>393</th>\n",
       "      <td>19-Aug-2020</td>\n",
       "      <td>2020.0</td>\n",
       "      <td>NaN</td>\n",
       "      <td>USA</td>\n",
       "      <td>South Carolina</td>\n",
       "      <td>Wading</td>\n",
       "      <td>Minor injury to arm by a fish</td>\n",
       "    </tr>\n",
       "    <tr>\n",
       "      <th>422</th>\n",
       "      <td>04-Jun-2020</td>\n",
       "      <td>2020.0</td>\n",
       "      <td>NaN</td>\n",
       "      <td>USA</td>\n",
       "      <td>Delaware</td>\n",
       "      <td>Skimboarding</td>\n",
       "      <td>Puncture wounds to leg</td>\n",
       "    </tr>\n",
       "    <tr>\n",
       "      <th>432</th>\n",
       "      <td>29-Apr-2020</td>\n",
       "      <td>2020.0</td>\n",
       "      <td>NaN</td>\n",
       "      <td>USA</td>\n",
       "      <td>California</td>\n",
       "      <td>Body Boarding</td>\n",
       "      <td>Minor injury to ankle from stingray</td>\n",
       "    </tr>\n",
       "    <tr>\n",
       "      <th>726</th>\n",
       "      <td>15-Sep-2017</td>\n",
       "      <td>2017.0</td>\n",
       "      <td>NaN</td>\n",
       "      <td>SAMOA</td>\n",
       "      <td>Upolu Island</td>\n",
       "      <td>Fishing</td>\n",
       "      <td>Injuries to hands and legs</td>\n",
       "    </tr>\n",
       "    <tr>\n",
       "      <th>1026</th>\n",
       "      <td>27-Jul-2015</td>\n",
       "      <td>2015.0</td>\n",
       "      <td>NaN</td>\n",
       "      <td>AUSTRALIA</td>\n",
       "      <td>Victoria</td>\n",
       "      <td>Surfing</td>\n",
       "      <td>Injury to hand</td>\n",
       "    </tr>\n",
       "    <tr>\n",
       "      <th>5526</th>\n",
       "      <td>Reported 11-Sep-1936</td>\n",
       "      <td>1936.0</td>\n",
       "      <td>NaN</td>\n",
       "      <td>VIETNAM</td>\n",
       "      <td>NaN</td>\n",
       "      <td>Wreck of a sampam</td>\n",
       "      <td>FATAL</td>\n",
       "    </tr>\n",
       "    <tr>\n",
       "      <th>6367</th>\n",
       "      <td>Reported 03-Mar-1890</td>\n",
       "      <td>1890.0</td>\n",
       "      <td>NaN</td>\n",
       "      <td>CEYLON</td>\n",
       "      <td>NaN</td>\n",
       "      <td>Diving</td>\n",
       "      <td>FATAL</td>\n",
       "    </tr>\n",
       "    <tr>\n",
       "      <th>6848</th>\n",
       "      <td>Ca. 1010  BC</td>\n",
       "      <td>0.0</td>\n",
       "      <td>NaN</td>\n",
       "      <td>JAPAN</td>\n",
       "      <td>NaN</td>\n",
       "      <td>NaN</td>\n",
       "      <td>FATAL</td>\n",
       "    </tr>\n",
       "    <tr>\n",
       "      <th>6849</th>\n",
       "      <td>Ca 4000 BC</td>\n",
       "      <td>0.0</td>\n",
       "      <td>NaN</td>\n",
       "      <td>PERU</td>\n",
       "      <td>Paloma</td>\n",
       "      <td>NaN</td>\n",
       "      <td>FATAL</td>\n",
       "    </tr>\n",
       "  </tbody>\n",
       "</table>\n",
       "</div>"
      ],
      "text/plain": [
       "                      date    year type       country           state  \\\n",
       "220            01-Apr-2022  2022.0  NaN  SOUTH AFRICA             KZN   \n",
       "236            08-Feb-2022  2022.0  NaN    COSTA RICA      Guanacoste   \n",
       "257            16-Oct-2021  2021.0  NaN     AUSTRALIA      Queensland   \n",
       "262            10-Sep-2021  2021.0  NaN         EGYPT             NaN   \n",
       "283            21-Jul-2021  2021.0  NaN           USA         Florida   \n",
       "371            21-Oct-2020  2020.0  NaN           USA  North Carolina   \n",
       "376            21-Sep-2020  2020.0  NaN           USA          Hawaii   \n",
       "380            16-Sep-2020  2020.0  NaN           USA         Florida   \n",
       "383            08-Sep-2020  2020.0  NaN           USA         Florida   \n",
       "393            19-Aug-2020  2020.0  NaN           USA  South Carolina   \n",
       "422            04-Jun-2020  2020.0  NaN           USA        Delaware   \n",
       "432            29-Apr-2020  2020.0  NaN           USA      California   \n",
       "726            15-Sep-2017  2017.0  NaN         SAMOA    Upolu Island   \n",
       "1026           27-Jul-2015  2015.0  NaN     AUSTRALIA        Victoria   \n",
       "5526  Reported 11-Sep-1936  1936.0  NaN       VIETNAM             NaN   \n",
       "6367  Reported 03-Mar-1890  1890.0  NaN        CEYLON             NaN   \n",
       "6848         Ca. 1010  BC      0.0  NaN         JAPAN             NaN   \n",
       "6849            Ca 4000 BC     0.0  NaN          PERU          Paloma   \n",
       "\n",
       "               activity                                             injury  \n",
       "220                 NaN                    Possible drowing and scavenging  \n",
       "236              Diving                Right forearm and left hand injured  \n",
       "257        Spearfishing                                        Disappeared  \n",
       "262            Swimming           Laceration to arm caused by metal object  \n",
       "283                 NaN  Small laceration to ankle, shark involvement n...  \n",
       "371             Surfing                        Laceration to knee and foot  \n",
       "376            Swimming        Lacerations and puncture wounds to shoulder  \n",
       "380            Swimming              Minor cuts and punctures to left foot  \n",
       "383        Surf fishing  Hand bitten that was holding a fish PROVOKED I...  \n",
       "393              Wading                      Minor injury to arm by a fish  \n",
       "422        Skimboarding                             Puncture wounds to leg  \n",
       "432       Body Boarding               Minor injury to ankle from stingray   \n",
       "726             Fishing                         Injuries to hands and legs  \n",
       "1026            Surfing                                     Injury to hand  \n",
       "5526  Wreck of a sampam                                              FATAL  \n",
       "6367             Diving                                              FATAL  \n",
       "6848                NaN                                              FATAL  \n",
       "6849                NaN                                              FATAL  "
      ]
     },
     "execution_count": 24,
     "metadata": {},
     "output_type": "execute_result"
    }
   ],
   "source": [
    "clean_df[clean_df.type.isnull()]"
   ]
  },
  {
   "cell_type": "code",
   "execution_count": 25,
   "id": "b21e82c0-a944-4b81-9ded-481a7285e2e0",
   "metadata": {},
   "outputs": [],
   "source": [
    "# Rellenamos los nans de type con Unknown\n",
    "clean_df.type = clean_df.type.fillna(\"Unknown\")"
   ]
  },
  {
   "cell_type": "code",
   "execution_count": 26,
   "id": "d24f8935-e296-42e2-bdfa-7bc8fa29ca96",
   "metadata": {},
   "outputs": [
    {
     "data": {
      "text/plain": [
       "date          0\n",
       "year          2\n",
       "type          0\n",
       "country      49\n",
       "state       481\n",
       "activity    585\n",
       "injury       34\n",
       "dtype: int64"
      ]
     },
     "execution_count": 26,
     "metadata": {},
     "output_type": "execute_result"
    }
   ],
   "source": [
    "clean_df.isna().sum()"
   ]
  },
  {
   "cell_type": "code",
   "execution_count": 27,
   "id": "b57d8747-13e3-4881-9252-8ed203e91fa3",
   "metadata": {},
   "outputs": [],
   "source": [
    "clean_df.type = clean_df.type.replace([\"?\", \"Unconfirmed\", \"Unverified\", \"Under investigation\"], \"Unknown\")"
   ]
  },
  {
   "cell_type": "code",
   "execution_count": 28,
   "id": "b33dd2da-02a2-424d-8bb4-dcb6f541659b",
   "metadata": {},
   "outputs": [
    {
     "data": {
      "text/plain": [
       "type\n",
       "Unprovoked      5130\n",
       "Provoked         636\n",
       "Invalid          552\n",
       "Watercraft       355\n",
       "Sea Disaster     242\n",
       "Questionable      22\n",
       "Unknown           22\n",
       "Boat               7\n",
       " Provoked          2\n",
       "Name: count, dtype: int64"
      ]
     },
     "execution_count": 28,
     "metadata": {},
     "output_type": "execute_result"
    }
   ],
   "source": [
    "clean_df.type.value_counts()"
   ]
  },
  {
   "cell_type": "code",
   "execution_count": 29,
   "id": "ff1b024b-e9c5-44e9-bbf2-c336d55cde3f",
   "metadata": {},
   "outputs": [],
   "source": [
    "clean_df.type = clean_df.type.replace(\" Provoked\", \"Provoked\")"
   ]
  },
  {
   "cell_type": "code",
   "execution_count": 30,
   "id": "7b8f3d14-1e1c-4b16-aef9-cc7cf7749d2f",
   "metadata": {},
   "outputs": [
    {
     "data": {
      "text/plain": [
       "type\n",
       "Unprovoked      5130\n",
       "Provoked         638\n",
       "Invalid          552\n",
       "Watercraft       355\n",
       "Sea Disaster     242\n",
       "Questionable      22\n",
       "Unknown           22\n",
       "Boat               7\n",
       "Name: count, dtype: int64"
      ]
     },
     "execution_count": 30,
     "metadata": {},
     "output_type": "execute_result"
    }
   ],
   "source": [
    "clean_df.type.value_counts()"
   ]
  },
  {
   "cell_type": "code",
   "execution_count": 31,
   "id": "958f9d0d-caf8-4c9c-86b8-51746964ca0d",
   "metadata": {},
   "outputs": [
    {
     "data": {
      "text/plain": [
       "date          0\n",
       "year          2\n",
       "type          0\n",
       "country      49\n",
       "state       481\n",
       "activity    585\n",
       "injury       34\n",
       "dtype: int64"
      ]
     },
     "execution_count": 31,
     "metadata": {},
     "output_type": "execute_result"
    }
   ],
   "source": [
    "clean_df.isna().sum()"
   ]
  },
  {
   "cell_type": "code",
   "execution_count": 32,
   "id": "a7e7b9e2-2c21-4501-b75a-435442ecbee5",
   "metadata": {},
   "outputs": [],
   "source": [
    "#Hasta aquí visto en grupo"
   ]
  },
  {
   "cell_type": "code",
   "execution_count": 33,
   "id": "ddfeb758-c2cf-42c1-95a2-987301b1ea28",
   "metadata": {
    "scrolled": true
   },
   "outputs": [
    {
     "data": {
      "text/plain": [
       "234"
      ]
     },
     "execution_count": 33,
     "metadata": {},
     "output_type": "execute_result"
    }
   ],
   "source": [
    "clean_df.country.nunique()"
   ]
  },
  {
   "cell_type": "code",
   "execution_count": 34,
   "id": "63ad8e5f-14a7-4320-a902-1080bde8f52d",
   "metadata": {},
   "outputs": [],
   "source": [
    "#Casteamos la columna country en str\n",
    "clean_df.country = clean_df.country.astype(str)"
   ]
  },
  {
   "cell_type": "code",
   "execution_count": 35,
   "id": "4191ebca-4ec8-4206-9961-af9a96b0d394",
   "metadata": {},
   "outputs": [],
   "source": [
    "# pasamos los datos a minusculas\n",
    "clean_df.country = clean_df.country.apply(lambda x: x.lower().strip())"
   ]
  },
  {
   "cell_type": "code",
   "execution_count": 36,
   "id": "074ef357-7e8f-4152-8bc1-e7dbaca89cda",
   "metadata": {},
   "outputs": [
    {
     "data": {
      "text/plain": [
       "211"
      ]
     },
     "execution_count": 36,
     "metadata": {},
     "output_type": "execute_result"
    }
   ],
   "source": [
    "clean_df.country.nunique()"
   ]
  },
  {
   "cell_type": "code",
   "execution_count": 37,
   "id": "f9a80d31-6c35-48e1-8a1c-fef37765922e",
   "metadata": {
    "scrolled": true
   },
   "outputs": [
    {
     "data": {
      "text/plain": [
       "['admiralty islands',\n",
       " 'africa',\n",
       " 'algeria',\n",
       " 'american samoa',\n",
       " 'andaman / nicobar islandas',\n",
       " 'andaman islands',\n",
       " 'angola',\n",
       " 'antigua',\n",
       " 'argentina',\n",
       " 'aruba',\n",
       " 'asia?',\n",
       " 'atlantic ocean',\n",
       " 'australia',\n",
       " 'azores',\n",
       " 'bahamas',\n",
       " 'bahrein',\n",
       " 'bangladesh',\n",
       " 'barbados',\n",
       " 'bay of bengal',\n",
       " 'belize',\n",
       " 'bermuda',\n",
       " 'between portugal & india',\n",
       " 'brazil',\n",
       " 'british isles',\n",
       " 'british new guinea',\n",
       " 'british overseas territory',\n",
       " 'british virgin islands',\n",
       " 'british west indies',\n",
       " 'burma',\n",
       " 'canada',\n",
       " 'cape verde',\n",
       " 'caribbean sea',\n",
       " 'cayman islands',\n",
       " 'central pacific',\n",
       " 'ceylon',\n",
       " 'ceylon (sri lanka)',\n",
       " 'chile',\n",
       " 'china',\n",
       " 'coast of africa',\n",
       " 'colombia',\n",
       " 'columbia',\n",
       " 'comoros',\n",
       " 'cook islands',\n",
       " 'coral sea',\n",
       " 'costa rica',\n",
       " 'crete',\n",
       " 'croatia',\n",
       " 'cuba',\n",
       " 'curacao',\n",
       " 'cyprus',\n",
       " 'diego garcia',\n",
       " 'djibouti',\n",
       " 'dominican republic',\n",
       " 'ecuador',\n",
       " 'egypt',\n",
       " 'egypt / israel',\n",
       " 'el salvador',\n",
       " 'england',\n",
       " 'equatorial guinea / cameroon',\n",
       " 'falkland islands',\n",
       " 'federated states of micronesia',\n",
       " 'fiji',\n",
       " 'france',\n",
       " 'french polynesia',\n",
       " 'gabon',\n",
       " 'georgia',\n",
       " 'ghana',\n",
       " 'grand cayman',\n",
       " 'greece',\n",
       " 'greenland',\n",
       " 'grenada',\n",
       " 'guam',\n",
       " 'guatemala',\n",
       " 'guinea',\n",
       " 'gulf of aden',\n",
       " 'guyana',\n",
       " 'haiti',\n",
       " 'honduras',\n",
       " 'hong kong',\n",
       " 'iceland',\n",
       " 'india',\n",
       " 'indian ocean',\n",
       " 'indian ocean?',\n",
       " 'indonesia',\n",
       " 'iran',\n",
       " 'iran / iraq',\n",
       " 'iraq',\n",
       " 'ireland',\n",
       " 'israel',\n",
       " 'italy',\n",
       " 'italy / croatia',\n",
       " 'jamaica',\n",
       " 'japan',\n",
       " 'java',\n",
       " 'johnston island',\n",
       " 'jordan',\n",
       " 'kenya',\n",
       " 'kiribati',\n",
       " 'korea',\n",
       " 'kuwait',\n",
       " 'lebanon',\n",
       " 'liberia',\n",
       " 'libya',\n",
       " 'madagascar',\n",
       " 'malaysia',\n",
       " 'maldive islands',\n",
       " 'maldives',\n",
       " 'malta',\n",
       " 'marshall islands',\n",
       " 'martinique',\n",
       " 'mauritius',\n",
       " 'mayotte',\n",
       " 'mediterranean sea',\n",
       " 'mexico',\n",
       " 'micronesia',\n",
       " 'mid atlantic ocean',\n",
       " 'mid-pacifc ocean',\n",
       " 'monaco',\n",
       " 'montenegro',\n",
       " 'morocco',\n",
       " 'mozambique',\n",
       " 'namibia',\n",
       " 'nan',\n",
       " 'netherlands antilles',\n",
       " 'nevis',\n",
       " 'new britain',\n",
       " 'new caledonia',\n",
       " 'new guinea',\n",
       " 'new zealand',\n",
       " 'nicaragua',\n",
       " 'nigeria',\n",
       " 'north atlantic ocean',\n",
       " 'north pacific ocean',\n",
       " 'north sea',\n",
       " 'northern arabian sea',\n",
       " 'northern mariana islands',\n",
       " 'norway',\n",
       " 'ocean',\n",
       " 'okinawa',\n",
       " 'pacific ocean',\n",
       " 'palau',\n",
       " 'palestinian territories',\n",
       " 'panama',\n",
       " 'papua new guinea',\n",
       " 'paraguay',\n",
       " 'persian gulf',\n",
       " 'peru',\n",
       " 'philippines',\n",
       " 'portugal',\n",
       " 'puerto rico',\n",
       " 'red sea',\n",
       " 'red sea / indian ocean',\n",
       " 'red sea?',\n",
       " 'reunion',\n",
       " 'reunion island',\n",
       " 'roatan',\n",
       " 'russia',\n",
       " 'samoa',\n",
       " 'san domingo',\n",
       " 'saudi arabia',\n",
       " 'scotland',\n",
       " 'senegal',\n",
       " 'seychelles',\n",
       " 'sierra leone',\n",
       " 'singapore',\n",
       " 'slovenia',\n",
       " 'solomon islands',\n",
       " 'solomon islands / vanuatu',\n",
       " 'somalia',\n",
       " 'south africa',\n",
       " 'south atlantic ocean',\n",
       " 'south china sea',\n",
       " 'south korea',\n",
       " 'south pacific ocean',\n",
       " 'southwest pacific ocean',\n",
       " 'spain',\n",
       " 'sri lanka',\n",
       " 'st helena, british overseas territory',\n",
       " 'st kitts / nevis',\n",
       " 'st martin',\n",
       " 'st. maartin',\n",
       " 'st. martin',\n",
       " 'sudan',\n",
       " 'sudan?',\n",
       " 'sweden',\n",
       " 'syria',\n",
       " 'taiwan',\n",
       " 'tanzania',\n",
       " 'tasman sea',\n",
       " 'thailand',\n",
       " 'the balkans',\n",
       " 'tobago',\n",
       " 'tonga',\n",
       " 'trinidad',\n",
       " 'trinidad & tobago',\n",
       " 'tunisia',\n",
       " 'turkey',\n",
       " 'turks & caicos',\n",
       " 'turks and caicos',\n",
       " 'tuvalu',\n",
       " 'united arab emirates',\n",
       " 'united arab emirates (uae)',\n",
       " 'united kingdom',\n",
       " 'uruguay',\n",
       " 'usa',\n",
       " 'vanuatu',\n",
       " 'venezuela',\n",
       " 'vietnam',\n",
       " 'west indies',\n",
       " 'western samoa',\n",
       " 'yemen']"
      ]
     },
     "execution_count": 37,
     "metadata": {},
     "output_type": "execute_result"
    }
   ],
   "source": [
    "list(clean_df.country.sort_values().unique())"
   ]
  },
  {
   "cell_type": "code",
   "execution_count": 38,
   "id": "6ee60ab8-57c8-4766-bed5-1ad272b1ee9e",
   "metadata": {},
   "outputs": [
    {
     "data": {
      "text/html": [
       "<div>\n",
       "<style scoped>\n",
       "    .dataframe tbody tr th:only-of-type {\n",
       "        vertical-align: middle;\n",
       "    }\n",
       "\n",
       "    .dataframe tbody tr th {\n",
       "        vertical-align: top;\n",
       "    }\n",
       "\n",
       "    .dataframe thead th {\n",
       "        text-align: right;\n",
       "    }\n",
       "</style>\n",
       "<table border=\"1\" class=\"dataframe\">\n",
       "  <thead>\n",
       "    <tr style=\"text-align: right;\">\n",
       "      <th></th>\n",
       "      <th>date</th>\n",
       "      <th>year</th>\n",
       "      <th>type</th>\n",
       "      <th>country</th>\n",
       "      <th>state</th>\n",
       "      <th>activity</th>\n",
       "      <th>injury</th>\n",
       "    </tr>\n",
       "  </thead>\n",
       "  <tbody>\n",
       "    <tr>\n",
       "      <th>830</th>\n",
       "      <td>Reported 08-Jan-2017</td>\n",
       "      <td>NaN</td>\n",
       "      <td>Invalid</td>\n",
       "      <td>australia</td>\n",
       "      <td>Queensland</td>\n",
       "      <td>Spearfishing</td>\n",
       "      <td>No attack, shark made a threat display</td>\n",
       "    </tr>\n",
       "    <tr>\n",
       "      <th>6742</th>\n",
       "      <td>Reported 19-Aug-1836</td>\n",
       "      <td>NaN</td>\n",
       "      <td>Unprovoked</td>\n",
       "      <td>england</td>\n",
       "      <td>Cumberland</td>\n",
       "      <td>Swimming</td>\n",
       "      <td>FATAL</td>\n",
       "    </tr>\n",
       "  </tbody>\n",
       "</table>\n",
       "</div>"
      ],
      "text/plain": [
       "                      date  year        type    country       state  \\\n",
       "830   Reported 08-Jan-2017   NaN     Invalid  australia  Queensland   \n",
       "6742  Reported 19-Aug-1836   NaN  Unprovoked    england  Cumberland   \n",
       "\n",
       "          activity                                  injury  \n",
       "830   Spearfishing  No attack, shark made a threat display  \n",
       "6742      Swimming                                   FATAL  "
      ]
     },
     "execution_count": 38,
     "metadata": {},
     "output_type": "execute_result"
    }
   ],
   "source": [
    "cl2 = clean_df[clean_df.year.isnull()]\n",
    "cl2"
   ]
  },
  {
   "cell_type": "code",
   "execution_count": 39,
   "id": "2a952c94-4e60-4d73-a5e6-d9bbb309d0d4",
   "metadata": {},
   "outputs": [],
   "source": [
    "# separamos el año de date y lo pasamos a year\n",
    "clean_df.year = clean_df.year.fillna(cl2.date.apply(lambda x: x.split(\"-\")[2]))"
   ]
  },
  {
   "cell_type": "code",
   "execution_count": 40,
   "id": "50e59143-137a-4aef-a11e-a80c6e5627d6",
   "metadata": {},
   "outputs": [
    {
     "data": {
      "text/plain": [
       "date          0\n",
       "year          0\n",
       "type          0\n",
       "country       0\n",
       "state       481\n",
       "activity    585\n",
       "injury       34\n",
       "dtype: int64"
      ]
     },
     "execution_count": 40,
     "metadata": {},
     "output_type": "execute_result"
    }
   ],
   "source": [
    "clean_df.isna().sum()"
   ]
  },
  {
   "cell_type": "code",
   "execution_count": 41,
   "id": "72378854-7704-4be3-a684-2db5497aadeb",
   "metadata": {
    "scrolled": true
   },
   "outputs": [
    {
     "data": {
      "text/plain": [
       "[2024.0,\n",
       " 2026.0,\n",
       " 2025.0,\n",
       " 2023.0,\n",
       " 2022.0,\n",
       " 2021.0,\n",
       " 2020.0,\n",
       " 2019.0,\n",
       " 2018.0,\n",
       " 2017.0,\n",
       " '2017',\n",
       " 2016.0,\n",
       " 2015.0,\n",
       " 2014.0,\n",
       " 2013.0,\n",
       " 2012.0,\n",
       " 2011.0,\n",
       " 2010.0,\n",
       " 2009.0,\n",
       " 2008.0,\n",
       " 2007.0,\n",
       " 2006.0,\n",
       " 2005.0,\n",
       " 2004.0,\n",
       " 2003.0,\n",
       " 2002.0,\n",
       " 2001.0,\n",
       " 2000.0,\n",
       " 1999.0,\n",
       " 1998.0,\n",
       " 1997.0,\n",
       " 1996.0,\n",
       " 1995.0,\n",
       " 1984.0,\n",
       " 1994.0,\n",
       " 1993.0,\n",
       " 1992.0,\n",
       " 1991.0,\n",
       " 1990.0,\n",
       " 1989.0,\n",
       " 1969.0,\n",
       " 1988.0,\n",
       " 1987.0,\n",
       " 1986.0,\n",
       " 1985.0,\n",
       " 1983.0,\n",
       " 1982.0,\n",
       " 1981.0,\n",
       " 1980.0,\n",
       " 1979.0,\n",
       " 1978.0,\n",
       " 1977.0,\n",
       " 1976.0,\n",
       " 1975.0,\n",
       " 1974.0,\n",
       " 1973.0,\n",
       " 1972.0,\n",
       " 1971.0,\n",
       " 1970.0,\n",
       " 1968.0,\n",
       " 1967.0,\n",
       " 1966.0,\n",
       " 1965.0,\n",
       " 1964.0,\n",
       " 1963.0,\n",
       " 1962.0,\n",
       " 1961.0,\n",
       " 1960.0,\n",
       " 1959.0,\n",
       " 1958.0,\n",
       " 1957.0,\n",
       " 1956.0,\n",
       " 1955.0,\n",
       " 1954.0,\n",
       " 1953.0,\n",
       " 1952.0,\n",
       " 1951.0,\n",
       " 1950.0,\n",
       " 1949.0,\n",
       " 1948.0,\n",
       " 1848.0,\n",
       " 1947.0,\n",
       " 1946.0,\n",
       " 1945.0,\n",
       " 1944.0,\n",
       " 1943.0,\n",
       " 1942.0,\n",
       " 1941.0,\n",
       " 1940.0,\n",
       " 1939.0,\n",
       " 1938.0,\n",
       " 1937.0,\n",
       " 1936.0,\n",
       " 1935.0,\n",
       " 1934.0,\n",
       " 1933.0,\n",
       " 1932.0,\n",
       " 1931.0,\n",
       " 1930.0,\n",
       " 1929.0,\n",
       " 1928.0,\n",
       " 1927.0,\n",
       " 1926.0,\n",
       " 1925.0,\n",
       " 1924.0,\n",
       " 1923.0,\n",
       " 1922.0,\n",
       " 1921.0,\n",
       " 1920.0,\n",
       " 1919.0,\n",
       " 1918.0,\n",
       " 1917.0,\n",
       " 1916.0,\n",
       " 1915.0,\n",
       " 1914.0,\n",
       " 1913.0,\n",
       " 1912.0,\n",
       " 1911.0,\n",
       " 1910.0,\n",
       " 1909.0,\n",
       " 1908.0,\n",
       " 1907.0,\n",
       " 1906.0,\n",
       " 1905.0,\n",
       " 1904.0,\n",
       " 1903.0,\n",
       " 1902.0,\n",
       " 1901.0,\n",
       " 1900.0,\n",
       " 1899.0,\n",
       " 1898.0,\n",
       " 1897.0,\n",
       " 1896.0,\n",
       " 1895.0,\n",
       " 1894.0,\n",
       " 1893.0,\n",
       " 1892.0,\n",
       " 1891.0,\n",
       " 1890.0,\n",
       " 1889.0,\n",
       " 1888.0,\n",
       " 1887.0,\n",
       " 1886.0,\n",
       " 1885.0,\n",
       " 1884.0,\n",
       " 1883.0,\n",
       " 1882.0,\n",
       " 1881.0,\n",
       " 1880.0,\n",
       " 1879.0,\n",
       " 1878.0,\n",
       " 1877.0,\n",
       " 1876.0,\n",
       " 1875.0,\n",
       " 1874.0,\n",
       " 1873.0,\n",
       " 1872.0,\n",
       " 1871.0,\n",
       " 1870.0,\n",
       " 1869.0,\n",
       " 1868.0,\n",
       " 1867.0,\n",
       " 1866.0,\n",
       " 1865.0,\n",
       " 1864.0,\n",
       " 1863.0,\n",
       " 1862.0,\n",
       " 1861.0,\n",
       " 1860.0,\n",
       " 1859.0,\n",
       " 1858.0,\n",
       " 1857.0,\n",
       " 1856.0,\n",
       " 1855.0,\n",
       " 1853.0,\n",
       " 1852.0,\n",
       " 1851.0,\n",
       " 1850.0,\n",
       " 1849.0,\n",
       " 1847.0,\n",
       " 1846.0,\n",
       " 1845.0,\n",
       " 1844.0,\n",
       " 1842.0,\n",
       " 1841.0,\n",
       " 1840.0,\n",
       " 1839.0,\n",
       " 1837.0,\n",
       " '1836',\n",
       " 1836.0,\n",
       " 1835.0,\n",
       " 1834.0,\n",
       " 1832.0,\n",
       " 1831.0,\n",
       " 1830.0,\n",
       " 1829.0,\n",
       " 1828.0,\n",
       " 1827.0,\n",
       " 1826.0,\n",
       " 1825.0,\n",
       " 1823.0,\n",
       " 1822.0,\n",
       " 1819.0,\n",
       " 1818.0,\n",
       " 1817.0,\n",
       " 1816.0,\n",
       " 1815.0,\n",
       " 1812.0,\n",
       " 1811.0,\n",
       " 1810.0,\n",
       " 1808.0,\n",
       " 1807.0,\n",
       " 1805.0,\n",
       " 1804.0,\n",
       " 1803.0,\n",
       " 1802.0,\n",
       " 1801.0,\n",
       " 1800.0,\n",
       " 1797.0,\n",
       " 1792.0,\n",
       " 1791.0,\n",
       " 1788.0,\n",
       " 1787.0,\n",
       " 1786.0,\n",
       " 1785.0,\n",
       " 1784.0,\n",
       " 1783.0,\n",
       " 1780.0,\n",
       " 1779.0,\n",
       " 1776.0,\n",
       " 1771.0,\n",
       " 1767.0,\n",
       " 1764.0,\n",
       " 1758.0,\n",
       " 1753.0,\n",
       " 1751.0,\n",
       " 1749.0,\n",
       " 1755.0,\n",
       " 1748.0,\n",
       " 1742.0,\n",
       " 1738.0,\n",
       " 1733.0,\n",
       " 1723.0,\n",
       " 1721.0,\n",
       " 1703.0,\n",
       " 1700.0,\n",
       " 1642.0,\n",
       " 1691.0,\n",
       " 1640.0,\n",
       " 1637.0,\n",
       " 1617.0,\n",
       " 1595.0,\n",
       " 1580.0,\n",
       " 1555.0,\n",
       " 1554.0,\n",
       " 1543.0,\n",
       " 1518.0,\n",
       " 1500.0,\n",
       " 1000.0,\n",
       " 77.0,\n",
       " 5.0,\n",
       " 0.0]"
      ]
     },
     "execution_count": 41,
     "metadata": {},
     "output_type": "execute_result"
    }
   ],
   "source": [
    "#echamos un vistazo rápido a los valores de year \n",
    "list(clean_df.year.unique())"
   ]
  },
  {
   "cell_type": "code",
   "execution_count": 42,
   "id": "a2ca615b-3080-4a36-b6b9-14bc2d9f91ec",
   "metadata": {},
   "outputs": [],
   "source": [
    "#Casteamo year a int\n",
    "clean_df.year = clean_df.year.astype(int)"
   ]
  },
  {
   "cell_type": "code",
   "execution_count": 43,
   "id": "78508855-d8bb-4aa9-b754-7ed99bcdbe38",
   "metadata": {},
   "outputs": [],
   "source": [
    "#Filtramos para quedarnos solo con los ataques posteriores a 1990\n",
    "clean_df = clean_df[clean_df.year > 1990]"
   ]
  },
  {
   "cell_type": "code",
   "execution_count": 44,
   "id": "44ed23cb-a657-45c2-a2d6-45a141f59e1c",
   "metadata": {},
   "outputs": [
    {
     "data": {
      "text/plain": [
       "date          0\n",
       "year          0\n",
       "type          0\n",
       "country       0\n",
       "state       135\n",
       "activity    160\n",
       "injury       10\n",
       "dtype: int64"
      ]
     },
     "execution_count": 44,
     "metadata": {},
     "output_type": "execute_result"
    }
   ],
   "source": [
    "clean_df.isna().sum()"
   ]
  },
  {
   "cell_type": "code",
   "execution_count": 45,
   "id": "f27fcc5f-729a-4f41-b271-b32c04be73e8",
   "metadata": {},
   "outputs": [
    {
     "data": {
      "text/plain": [
       "116"
      ]
     },
     "execution_count": 45,
     "metadata": {},
     "output_type": "execute_result"
    }
   ],
   "source": [
    "clean_df.country.nunique()"
   ]
  },
  {
   "cell_type": "code",
   "execution_count": 46,
   "id": "98bc66ac-8e4d-43b3-b2bf-e3affad8b5da",
   "metadata": {},
   "outputs": [
    {
     "data": {
      "text/plain": [
       "['angola',\n",
       " 'antigua',\n",
       " 'argentina',\n",
       " 'aruba',\n",
       " 'atlantic ocean',\n",
       " 'australia',\n",
       " 'azores',\n",
       " 'bahamas',\n",
       " 'belize',\n",
       " 'brazil',\n",
       " 'british overseas territory',\n",
       " 'british virgin islands',\n",
       " 'canada',\n",
       " 'cape verde',\n",
       " 'caribbean sea',\n",
       " 'cayman islands',\n",
       " 'chile',\n",
       " 'china',\n",
       " 'colombia',\n",
       " 'columbia',\n",
       " 'comoros',\n",
       " 'coral sea',\n",
       " 'costa rica',\n",
       " 'croatia',\n",
       " 'cuba',\n",
       " 'diego garcia',\n",
       " 'dominican republic',\n",
       " 'ecuador',\n",
       " 'egypt',\n",
       " 'egypt / israel',\n",
       " 'el salvador',\n",
       " 'england',\n",
       " 'fiji',\n",
       " 'france',\n",
       " 'french polynesia',\n",
       " 'grand cayman',\n",
       " 'greece',\n",
       " 'guam',\n",
       " 'gulf of aden',\n",
       " 'honduras',\n",
       " 'hong kong',\n",
       " 'india',\n",
       " 'indonesia',\n",
       " 'ireland',\n",
       " 'israel',\n",
       " 'italy',\n",
       " 'jamaica',\n",
       " 'japan',\n",
       " 'jordan',\n",
       " 'kenya',\n",
       " 'kiribati',\n",
       " 'liberia',\n",
       " 'libya',\n",
       " 'madagascar',\n",
       " 'malaysia',\n",
       " 'maldive islands',\n",
       " 'maldives',\n",
       " 'malta',\n",
       " 'marshall islands',\n",
       " 'mauritius',\n",
       " 'mexico',\n",
       " 'micronesia',\n",
       " 'morocco',\n",
       " 'mozambique',\n",
       " 'nan',\n",
       " 'nevis',\n",
       " 'new caledonia',\n",
       " 'new zealand',\n",
       " 'nigeria',\n",
       " 'northern arabian sea',\n",
       " 'norway',\n",
       " 'okinawa',\n",
       " 'palestinian territories',\n",
       " 'panama',\n",
       " 'papua new guinea',\n",
       " 'philippines',\n",
       " 'portugal',\n",
       " 'puerto rico',\n",
       " 'reunion',\n",
       " 'reunion island',\n",
       " 'russia',\n",
       " 'samoa',\n",
       " 'saudi arabia',\n",
       " 'scotland',\n",
       " 'senegal',\n",
       " 'seychelles',\n",
       " 'sierra leone',\n",
       " 'solomon islands',\n",
       " 'somalia',\n",
       " 'south africa',\n",
       " 'south korea',\n",
       " 'spain',\n",
       " 'sri lanka',\n",
       " 'st helena, british overseas territory',\n",
       " 'st kitts / nevis',\n",
       " 'st martin',\n",
       " 'st. maartin',\n",
       " 'st. martin',\n",
       " 'taiwan',\n",
       " 'tanzania',\n",
       " 'thailand',\n",
       " 'tobago',\n",
       " 'tonga',\n",
       " 'trinidad',\n",
       " 'trinidad & tobago',\n",
       " 'turks & caicos',\n",
       " 'turks and caicos',\n",
       " 'united arab emirates',\n",
       " 'united arab emirates (uae)',\n",
       " 'united kingdom',\n",
       " 'uruguay',\n",
       " 'usa',\n",
       " 'vanuatu',\n",
       " 'venezuela',\n",
       " 'vietnam',\n",
       " 'yemen']"
      ]
     },
     "execution_count": 46,
     "metadata": {},
     "output_type": "execute_result"
    }
   ],
   "source": [
    "list(clean_df.country.sort_values().unique())"
   ]
  },
  {
   "cell_type": "code",
   "execution_count": 47,
   "id": "85685b6b-00f5-4a02-86e8-8f612e8f3fce",
   "metadata": {},
   "outputs": [
    {
     "data": {
      "text/plain": [
       "477"
      ]
     },
     "execution_count": 47,
     "metadata": {},
     "output_type": "execute_result"
    }
   ],
   "source": [
    "#Numero de actividades unicas\n",
    "clean_df.activity.nunique()"
   ]
  },
  {
   "cell_type": "code",
   "execution_count": 48,
   "id": "2a4cfec7-7140-4392-a22f-0df0e17d52ff",
   "metadata": {},
   "outputs": [
    {
     "name": "stderr",
     "output_type": "stream",
     "text": [
      "C:\\Users\\FernandoSanz-Extreme\\AppData\\Local\\Temp\\ipykernel_36556\\3491672707.py:2: SettingWithCopyWarning: \n",
      "A value is trying to be set on a copy of a slice from a DataFrame.\n",
      "Try using .loc[row_indexer,col_indexer] = value instead\n",
      "\n",
      "See the caveats in the documentation: https://pandas.pydata.org/pandas-docs/stable/user_guide/indexing.html#returning-a-view-versus-a-copy\n",
      "  clean_df.activity = clean_df.activity.fillna(\"Unknown\")\n"
     ]
    }
   ],
   "source": [
    "# Rellenamos los 160 nans de activity con Unknown\n",
    "clean_df.activity = clean_df.activity.fillna(\"Unknown\")"
   ]
  },
  {
   "cell_type": "code",
   "execution_count": 49,
   "id": "fb3168a7-3d83-43a6-821e-5bf01119d368",
   "metadata": {},
   "outputs": [
    {
     "data": {
      "text/plain": [
       "activity\n",
       "Surfing                           927\n",
       "Swimming                          452\n",
       "Spearfishing                      198\n",
       "Fishing                           190\n",
       "Unknown                           163\n",
       "                                 ... \n",
       "Swimming or Snorkeling              1\n",
       "Standing, collecting sea stars      1\n",
       "Jumping in the waves                1\n",
       "Diving, photographing sharks        1\n",
       "Surfing (or sailboarding)           1\n",
       "Name: count, Length: 477, dtype: int64"
      ]
     },
     "execution_count": 49,
     "metadata": {},
     "output_type": "execute_result"
    }
   ],
   "source": [
    "clean_df.activity.value_counts()"
   ]
  },
  {
   "cell_type": "code",
   "execution_count": 50,
   "id": "0c73e0f0-2598-45bd-9569-0f42579068f4",
   "metadata": {},
   "outputs": [
    {
     "name": "stderr",
     "output_type": "stream",
     "text": [
      "C:\\Users\\FernandoSanz-Extreme\\AppData\\Local\\Temp\\ipykernel_36556\\1833973008.py:2: SettingWithCopyWarning: \n",
      "A value is trying to be set on a copy of a slice from a DataFrame.\n",
      "Try using .loc[row_indexer,col_indexer] = value instead\n",
      "\n",
      "See the caveats in the documentation: https://pandas.pydata.org/pandas-docs/stable/user_guide/indexing.html#returning-a-view-versus-a-copy\n",
      "  clean_df.activity = clean_df.activity.apply(lambda x: x.lower().strip())\n"
     ]
    },
    {
     "data": {
      "text/plain": [
       "activity\n",
       "surfing                                               931\n",
       "swimming                                              464\n",
       "fishing                                               200\n",
       "spearfishing                                          198\n",
       "unknown                                               163\n",
       "                                                     ... \n",
       "jumping in the waves                                    1\n",
       "diving, photographing sharks                            1\n",
       "fishing (illegally)                                     1\n",
       "attempting to kite surf from egypt to saudi arabia      1\n",
       "surfing (or sailboarding)                               1\n",
       "Name: count, Length: 448, dtype: int64"
      ]
     },
     "execution_count": 50,
     "metadata": {},
     "output_type": "execute_result"
    }
   ],
   "source": [
    "#Pasamos a minusculas y quitamos espacios al principio y final\n",
    "clean_df.activity = clean_df.activity.apply(lambda x: x.lower().strip())\n",
    "clean_df.activity.value_counts()"
   ]
  },
  {
   "cell_type": "code",
   "execution_count": 51,
   "id": "4ce04fb2-66a0-40b7-b8ee-92ec3571504f",
   "metadata": {},
   "outputs": [
    {
     "data": {
      "text/plain": [
       "1031"
      ]
     },
     "execution_count": 51,
     "metadata": {},
     "output_type": "execute_result"
    }
   ],
   "source": [
    "clean_df.activity.str.contains(\"surfing\").sum()"
   ]
  },
  {
   "cell_type": "code",
   "execution_count": 52,
   "id": "ef7843c7-c05a-4a23-8bad-626c484a051a",
   "metadata": {},
   "outputs": [
    {
     "data": {
      "text/plain": [
       "525"
      ]
     },
     "execution_count": 52,
     "metadata": {},
     "output_type": "execute_result"
    }
   ],
   "source": [
    "clean_df.activity.str.contains(\"swimming\").sum()"
   ]
  },
  {
   "cell_type": "code",
   "execution_count": 53,
   "id": "28ccf1e7-293d-438c-bb58-144e5f225e6b",
   "metadata": {},
   "outputs": [
    {
     "data": {
      "text/plain": [
       "516"
      ]
     },
     "execution_count": 53,
     "metadata": {},
     "output_type": "execute_result"
    }
   ],
   "source": [
    "clean_df.activity.str.contains(\"fishing\").sum()"
   ]
  },
  {
   "cell_type": "code",
   "execution_count": 54,
   "id": "36eca1a0-8aae-47bf-ad99-d87374222d34",
   "metadata": {},
   "outputs": [
    {
     "data": {
      "text/plain": [
       "220"
      ]
     },
     "execution_count": 54,
     "metadata": {},
     "output_type": "execute_result"
    }
   ],
   "source": [
    "clean_df.activity.str.contains(\"spearfishing\").sum()"
   ]
  },
  {
   "cell_type": "code",
   "execution_count": 287,
   "id": "418a7c64-332d-4cad-885f-939687c36cd4",
   "metadata": {},
   "outputs": [
    {
     "name": "stdout",
     "output_type": "stream",
     "text": [
      "<class 'pandas.core.frame.DataFrame'>\n",
      "Index: 3252 entries, 3 to 3256\n",
      "Data columns (total 7 columns):\n",
      " #   Column    Non-Null Count  Dtype \n",
      "---  ------    --------------  ----- \n",
      " 0   date      3252 non-null   object\n",
      " 1   year      3252 non-null   int32 \n",
      " 2   type      3252 non-null   object\n",
      " 3   country   3252 non-null   object\n",
      " 4   state     3117 non-null   object\n",
      " 5   activity  3252 non-null   object\n",
      " 6   injury    3242 non-null   object\n",
      "dtypes: int32(1), object(6)\n",
      "memory usage: 190.5+ KB\n"
     ]
    }
   ],
   "source": [
    "test_df = clean_df.copy()\n",
    "test_df.info()"
   ]
  },
  {
   "cell_type": "code",
   "execution_count": 289,
   "id": "c855c964-86d0-4283-88c6-9c344b6361de",
   "metadata": {},
   "outputs": [
    {
     "data": {
      "text/plain": [
       "activity\n",
       "surfing                                               931\n",
       "swimming                                              464\n",
       "fishing                                               200\n",
       "spearfishing                                          198\n",
       "unknown                                               163\n",
       "                                                     ... \n",
       "jumping in the waves                                    1\n",
       "diving, photographing sharks                            1\n",
       "fishing (illegally)                                     1\n",
       "attempting to kite surf from egypt to saudi arabia      1\n",
       "surfing (or sailboarding)                               1\n",
       "Name: count, Length: 448, dtype: int64"
      ]
     },
     "execution_count": 289,
     "metadata": {},
     "output_type": "execute_result"
    }
   ],
   "source": [
    "test_df.activity.value_counts()"
   ]
  },
  {
   "cell_type": "code",
   "execution_count": 291,
   "id": "e49aa002-6553-4cf3-84e5-07f75d5d6666",
   "metadata": {},
   "outputs": [],
   "source": [
    "test_df.activity = test_df.activity.str.replace(\".*surfing*\", \"surfing\", regex = True)"
   ]
  },
  {
   "cell_type": "code",
   "execution_count": 297,
   "id": "358778d5-f8f2-4ec3-a47f-a8d3eca403a2",
   "metadata": {},
   "outputs": [
    {
     "data": {
      "text/plain": [
       "activity\n",
       "surfing                                1102\n",
       "swimming                                592\n",
       "fishing                                 504\n",
       "diving                                  203\n",
       "unknown                                 163\n",
       "                                       ... \n",
       "kayaking or wave skiing                   1\n",
       "military ocean training                   1\n",
       "casting a net                             1\n",
       "kneeling in the water                     1\n",
       "preparing to fish for jack-mackerel       1\n",
       "Name: count, Length: 117, dtype: int64"
      ]
     },
     "execution_count": 297,
     "metadata": {},
     "output_type": "execute_result"
    }
   ],
   "source": [
    "test_df.activity.value_counts()"
   ]
  },
  {
   "cell_type": "code",
   "execution_count": 393,
   "id": "3d82597b-0a40-40d3-be07-5bf1ac6c7586",
   "metadata": {},
   "outputs": [
    {
     "data": {
      "text/plain": [
       "activity\n",
       "surfing                                1102\n",
       "swimming                                592\n",
       "fishing                                 504\n",
       "diving                                  203\n",
       "unknown                                 163\n",
       "                                       ... \n",
       "kayaking or wave skiing                   1\n",
       "military ocean training                   1\n",
       "casting a net                             1\n",
       "kneeling in the water                     1\n",
       "preparing to fish for jack-mackerel       1\n",
       "Name: count, Length: 117, dtype: int64"
      ]
     },
     "execution_count": 393,
     "metadata": {},
     "output_type": "execute_result"
    }
   ],
   "source": [
    "test_df.activity = test_df.activity.str.replace(\".*surf.*\", \"surfing\", regex = True)\n",
    "test_df.activity = test_df.activity.str.replace(\".*swim+ing.*\", \"swimming\", regex = True)\n",
    "test_df.activity = test_df.activity.str.replace(\".*fishing.*\", \"fishing\", regex = True)\n",
    "test_df.activity = test_df.activity.str.replace(\".*spearfishing.*\", \"spearfishing\", regex = True)\n",
    "test_df.activity = test_df.activity.str.replace(\".*div.*\", \"diving\", regex = True)\n",
    "test_df.activity = test_df.activity.str.replace(\".*body.boarding.*\", \"bodyboarding\", regex = True)\n",
    "test_df.activity = test_df.activity.str.replace(\".*bo.gie boarding.*\", \"boogie boarding\", regex = True)\n",
    "test_df.activity = test_df.activity.str.replace(\".*snorkel.*\", \"snorkeling\", regex = True)\n",
    "test_df.activity = test_df.activity.str.replace(\".*film.*\", \"filming\", regex = True)\n",
    "test_df.activity = test_df.activity.str.replace(\".*photo.*\", \"photographing\", regex = True)\n",
    "test_df.activity = test_df.activity.str.replace(\".*shark.*\", \"shark related activities\", regex = True)\n",
    "test_df.activity = test_df.activity.str.replace(\".*play.*\", \"playing\", regex = True)\n",
    "test_df.activity = test_df.activity.str.replace(\".*float.*\", \"floating\", regex = True)\n",
    "test_df.activity = test_df.activity.str.replace(\".*paddl.*\", \"paddleboarding\", regex = True)\n",
    "test_df.activity = test_df.activity.str.replace(\".*fell.*\", \"swimming\", regex = True)\n",
    "test_df.activity = test_df.activity.str.replace(\".*jump.*\", \"swimming\", regex = True)\n",
    "test_df.activity = test_df.activity.str.replace(\".*stand.*\", \"swimming\", regex = True)\n",
    "test_df.activity.value_counts()"
   ]
  },
  {
   "cell_type": "code",
   "execution_count": 395,
   "id": "7ace7ad3-534d-4948-b23d-21f0e79b8f2a",
   "metadata": {
    "scrolled": true
   },
   "outputs": [
    {
     "data": {
      "text/plain": [
       "['',\n",
       " '\"riding waves on a board\"',\n",
       " '2 boats capsized',\n",
       " 'adrift in a life jacket',\n",
       " 'adrift on refugee raft',\n",
       " 'air disaster',\n",
       " 'air disaster - piper aircraft crashed into the sea, killing all on board',\n",
       " 'air disaster. flash airlines boeing 737 crashed into the red sea',\n",
       " 'attempting to attract dolphins',\n",
       " 'attempting to catch a crocodile',\n",
       " 'attempting to fix motor',\n",
       " 'attempting to illegally enter the usa',\n",
       " 'attempting to retreive a dinghy',\n",
       " 'bathing',\n",
       " 'batin',\n",
       " 'bodyboarding',\n",
       " 'boeing 757 enroute from porta plata plunged into the sea',\n",
       " 'boogie boarding',\n",
       " 'canoe with 3 men onboard sank',\n",
       " 'canoeing',\n",
       " 'casting a net',\n",
       " 'cleaning fish',\n",
       " 'collecting beche-de-mer',\n",
       " 'competing in the woodvale atlantic rowing race',\n",
       " 'conducting research',\n",
       " 'crabbing',\n",
       " 'crawling',\n",
       " \"crouching in 2' of water\",\n",
       " 'cruising',\n",
       " 'diving',\n",
       " 'feeding fish',\n",
       " 'feeding stingrays?',\n",
       " 'fihing',\n",
       " 'filming',\n",
       " 'fisherman',\n",
       " 'fishing',\n",
       " 'floating',\n",
       " 'foil boarding',\n",
       " 'foil-boarding',\n",
       " 'foilboarding',\n",
       " 'hiking on the beach',\n",
       " 'holding onto an inflatable boat',\n",
       " 'inflatable boat',\n",
       " 'jet skiing',\n",
       " 'kakaying',\n",
       " 'kayaking',\n",
       " 'kayaking or wave skiing',\n",
       " 'kite boarding',\n",
       " 'kite foiling',\n",
       " 'kite-boarding',\n",
       " 'kiteboarding',\n",
       " 'kneeling in the water',\n",
       " 'lifeguard exercises',\n",
       " 'lifeguard training exercise',\n",
       " 'lifesaving drill',\n",
       " 'lobstering',\n",
       " \"lying prone in 2' of water\",\n",
       " 'military ocean training',\n",
       " 'murder',\n",
       " 'murder victim',\n",
       " 'night bathing',\n",
       " 'on a round-the-world expedition',\n",
       " 'paddleboarding',\n",
       " 'parasailing',\n",
       " 'photographing',\n",
       " 'picking opihi',\n",
       " 'playing',\n",
       " 'preparing to fish for jack-mackerel',\n",
       " 'removing fish from a trap',\n",
       " 'rescuing',\n",
       " 'rowing',\n",
       " 'rowing an inflatable dinghy',\n",
       " 'sailing',\n",
       " 'scalloping',\n",
       " \"scientific research (dr. sonny gruber's student)\",\n",
       " 'sea disaster',\n",
       " 'shark related activities',\n",
       " 'shipwreck',\n",
       " 'shipwrecked',\n",
       " 'shrimping',\n",
       " 'sightseeing',\n",
       " \"sinking of the 40' esperanza off st. maartin with 36 refugees on board\",\n",
       " 'sinking of the cargo ship mark jason',\n",
       " 'sitting',\n",
       " 'sitting in the water',\n",
       " 'skimboarding',\n",
       " 'sleeping in anchored boat',\n",
       " 'snorkeling',\n",
       " 'spearishing',\n",
       " 'splashing',\n",
       " 'splashing / wading',\n",
       " 'squatting in the water',\n",
       " 'stamding',\n",
       " 'sup',\n",
       " 'sup foil boarding',\n",
       " 'surfing',\n",
       " 'swept out to sea by the tsunami, she clung  to a log for 24 hours',\n",
       " 'swimming',\n",
       " 'the 426-ton cargo ship mia, laden with cement, capsized in heavy seas',\n",
       " 'towing a dead whale out to sea',\n",
       " 'towing rubber dinghy',\n",
       " 'transatlantic rowing',\n",
       " 'treading water',\n",
       " 'unknown',\n",
       " 'wading',\n",
       " 'wading in school of baitfish',\n",
       " 'wading to shore from his boat',\n",
       " 'wading?',\n",
       " 'wakeboarding',\n",
       " 'walking',\n",
       " 'walking in shallows',\n",
       " 'washing hands',\n",
       " 'washing his feet',\n",
       " 'washing sand off a speared fish',\n",
       " 'watching seals',\n",
       " 'watching the sardine run',\n",
       " 'yacht race']"
      ]
     },
     "execution_count": 395,
     "metadata": {},
     "output_type": "execute_result"
    }
   ],
   "source": [
    "#Lista de actividades\n",
    "list(test_df.activity.sort_values().unique())"
   ]
  },
  {
   "cell_type": "code",
   "execution_count": 391,
   "id": "8caad79f-ce48-4d71-a9ee-06cf36acf2d3",
   "metadata": {},
   "outputs": [
    {
     "data": {
      "text/plain": [
       "['boogie boarding / wading',\n",
       " 'fishing / wading',\n",
       " 'splashing / wading',\n",
       " 'surf fishing / wading',\n",
       " 'surfing / wading',\n",
       " 'swimming / wading',\n",
       " 'wading',\n",
       " 'wading / fishing & carrying a bag of fish',\n",
       " 'wading / surfing',\n",
       " 'wading in school of baitfish',\n",
       " 'wading near a fishing net',\n",
       " 'wading or swimming',\n",
       " 'wading to shore after surfing',\n",
       " 'wading to shore from his boat',\n",
       " 'wading with surfboard',\n",
       " 'wading, when he stepped on the shark',\n",
       " 'wading?']"
      ]
     },
     "execution_count": 391,
     "metadata": {},
     "output_type": "execute_result"
    }
   ],
   "source": [
    "#Buscador de actividades:\n",
    "list(test_df[test_df.activity.str.contains(\"wading\")].activity.sort_values().unique())"
   ]
  },
  {
   "cell_type": "code",
   "execution_count": 155,
   "id": "c87ecfaa-032c-4615-9783-a9092399d16f",
   "metadata": {
    "scrolled": true
   },
   "outputs": [],
   "source": [
    "#test_df[test_df[\"activity\"] == \"shark related activities\"]"
   ]
  },
  {
   "cell_type": "code",
   "execution_count": 305,
   "id": "0462ee4b-d258-4469-b63e-36299ef2f786",
   "metadata": {},
   "outputs": [
    {
     "data": {
      "text/plain": [
       "117"
      ]
     },
     "execution_count": 305,
     "metadata": {},
     "output_type": "execute_result"
    }
   ],
   "source": [
    "test_df.activity.sort_values().nunique()"
   ]
  },
  {
   "cell_type": "code",
   "execution_count": null,
   "id": "f99a9928-e98d-40d7-abef-4a5397d7901b",
   "metadata": {},
   "outputs": [],
   "source": [
    "# Hasta aquí visto con Lau"
   ]
  },
  {
   "cell_type": "code",
   "execution_count": 319,
   "id": "197ac028-a0f1-4c38-a2a3-b1d251b71893",
   "metadata": {},
   "outputs": [
    {
     "data": {
      "text/html": [
       "<div>\n",
       "<style scoped>\n",
       "    .dataframe tbody tr th:only-of-type {\n",
       "        vertical-align: middle;\n",
       "    }\n",
       "\n",
       "    .dataframe tbody tr th {\n",
       "        vertical-align: top;\n",
       "    }\n",
       "\n",
       "    .dataframe thead th {\n",
       "        text-align: right;\n",
       "    }\n",
       "</style>\n",
       "<table border=\"1\" class=\"dataframe\">\n",
       "  <thead>\n",
       "    <tr style=\"text-align: right;\">\n",
       "      <th></th>\n",
       "      <th>date</th>\n",
       "      <th>year</th>\n",
       "      <th>type</th>\n",
       "      <th>country</th>\n",
       "      <th>state</th>\n",
       "      <th>activity</th>\n",
       "      <th>injury</th>\n",
       "    </tr>\n",
       "  </thead>\n",
       "  <tbody>\n",
       "    <tr>\n",
       "      <th>3</th>\n",
       "      <td>2024-09-16 00:00:00</td>\n",
       "      <td>2024</td>\n",
       "      <td>Unprovoked</td>\n",
       "      <td>morocco</td>\n",
       "      <td>Southern Morocco</td>\n",
       "      <td>swimming - jumped off yacht</td>\n",
       "      <td>Leg severed</td>\n",
       "    </tr>\n",
       "    <tr>\n",
       "      <th>4</th>\n",
       "      <td>2024-08-26 00:00:00</td>\n",
       "      <td>2024</td>\n",
       "      <td>Unprovoked</td>\n",
       "      <td>jamaica</td>\n",
       "      <td>Montego Bay</td>\n",
       "      <td>spearfishing</td>\n",
       "      <td>Head right arm and leg severed</td>\n",
       "    </tr>\n",
       "    <tr>\n",
       "      <th>5</th>\n",
       "      <td>2024-08-06 00:00:00</td>\n",
       "      <td>2024</td>\n",
       "      <td>Unprovoked</td>\n",
       "      <td>belize</td>\n",
       "      <td>Gulf of Honduras</td>\n",
       "      <td>swimming - diving</td>\n",
       "      <td>Right lower leg amputated after serious bite</td>\n",
       "    </tr>\n",
       "    <tr>\n",
       "      <th>6</th>\n",
       "      <td>2024-07-23 00:00:00</td>\n",
       "      <td>2024</td>\n",
       "      <td>Unprovoked</td>\n",
       "      <td>australia</td>\n",
       "      <td>NSW</td>\n",
       "      <td>surfing</td>\n",
       "      <td>Serious injury to leg</td>\n",
       "    </tr>\n",
       "    <tr>\n",
       "      <th>7</th>\n",
       "      <td>2024-07-18 00:00:00</td>\n",
       "      <td>2024</td>\n",
       "      <td>Unprovoked</td>\n",
       "      <td>australia</td>\n",
       "      <td>Western Australia</td>\n",
       "      <td>surfing</td>\n",
       "      <td>Minor injury to lower left leg</td>\n",
       "    </tr>\n",
       "  </tbody>\n",
       "</table>\n",
       "</div>"
      ],
      "text/plain": [
       "                  date  year        type    country              state  \\\n",
       "3  2024-09-16 00:00:00  2024  Unprovoked    morocco   Southern Morocco   \n",
       "4  2024-08-26 00:00:00  2024  Unprovoked    jamaica        Montego Bay   \n",
       "5  2024-08-06 00:00:00  2024  Unprovoked     belize   Gulf of Honduras   \n",
       "6  2024-07-23 00:00:00  2024  Unprovoked  australia                NSW   \n",
       "7  2024-07-18 00:00:00  2024  Unprovoked  australia  Western Australia   \n",
       "\n",
       "                      activity                                        injury  \n",
       "3  swimming - jumped off yacht                                   Leg severed  \n",
       "4                 spearfishing                Head right arm and leg severed  \n",
       "5            swimming - diving  Right lower leg amputated after serious bite  \n",
       "6                      surfing                         Serious injury to leg  \n",
       "7                      surfing                Minor injury to lower left leg  "
      ]
     },
     "execution_count": 319,
     "metadata": {},
     "output_type": "execute_result"
    }
   ],
   "source": [
    "test2_df = test_df.copy()\n",
    "test2_df.head()"
   ]
  },
  {
   "cell_type": "code",
   "execution_count": 363,
   "id": "9392250d-bb29-423f-a386-3dcf5ea45ae6",
   "metadata": {},
   "outputs": [],
   "source": [
    "test2_df.country = test2_df.country.replace(\"columbia\", \"colombia\")\n",
    "test2_df.country = test_df.country.replace([\"french polynesia\", \"new caledonia\", \"reunion\", \"reunion island\", \"st martin\"], \"french overseas territories\")\n",
    "test2_df.country = test_df.country.replace([\"british overseas territory\", \"british virgin islands\", \"cayman islands\", \"diego garcia\", \"england\", \"grand cayman\", \"scotland\", \"st helena, british overseas territory\", \"turks & caicos\", \"turks and caicos\"], \"UK (including overseas territories)\")\n",
    "test2_df.country = test2_df.country.replace([\"puerto rico\", \"guam\"], \"usa\")\n",
    "test2_df.country = test2_df.country.replace([\"aruba\", \"st. maartin\"], \"netherlands\")\n",
    "test2_df.country = test2_df.country.replace(\"azores\", \"portugal\")\n",
    "test2_df.country = test2_df.country.replace(\"hong kong\", \"china\")\n",
    "test2_df.country = test2_df.country.replace(\"coral sea\", \"australia\")\n",
    "test2_df.country = test2_df.country.replace(\"okinawa\", \"japan\")\n",
    "test2_df.country = test2_df.country.replace([\"palestinian territories\", \"egypt / israel\"], \"israel\")\n",
    "test2_df.country = test2_df.country.replace(\"united arab emirates (uae)\", \"united arab emirates\")\n",
    "test2_df.country = test2_df.country.replace(\"antigua\", \"Antigua and Barbuda\")\n",
    "test2_df.country = test2_df.country.replace(\"maldive islands\", \"maldives\")\n",
    "test2_df.country = test2_df.country.replace(\"tobago\", \"Trinidad and Tobago\")\n",
    "test2_df.country = test2_df.country.replace([\"nevis\", \"st kitts / nevis\"], \"Saint Kitts and Nevis\")\n",
    "test2_df.country = test2_df.country.replace([\"atlantic ocean\", \"caribbean sea\", \"gulf of aden\", \"northern arabian sea\"], \"middle of the ocean\")\n",
    "test2_df.country = test2_df.country.replace(\"nan\", \"unknown\")"
   ]
  },
  {
   "cell_type": "code",
   "execution_count": null,
   "id": "7de9dd96-8c62-4482-8132-596978ef414d",
   "metadata": {},
   "outputs": [],
   "source": [
    "\"british overseas territory\", \"british virgin islands\", \"cayman islands\", \"diego garcia\", \"england\", \"grand cayman\", \"scotland\", \"st helena, british overseas territory\", \"turks & caicos\", \"turks and caicos\""
   ]
  },
  {
   "cell_type": "code",
   "execution_count": 365,
   "id": "4cdc988a-e7e1-40f2-ba77-693b5fac8c7f",
   "metadata": {},
   "outputs": [
    {
     "data": {
      "text/plain": [
       "92"
      ]
     },
     "execution_count": 365,
     "metadata": {},
     "output_type": "execute_result"
    }
   ],
   "source": [
    "test2_df.country.nunique()"
   ]
  },
  {
   "cell_type": "code",
   "execution_count": 359,
   "id": "8c96ae82-a053-4b99-abe4-e5d9cfd0cd1f",
   "metadata": {},
   "outputs": [
    {
     "data": {
      "text/html": [
       "<div>\n",
       "<style scoped>\n",
       "    .dataframe tbody tr th:only-of-type {\n",
       "        vertical-align: middle;\n",
       "    }\n",
       "\n",
       "    .dataframe tbody tr th {\n",
       "        vertical-align: top;\n",
       "    }\n",
       "\n",
       "    .dataframe thead th {\n",
       "        text-align: right;\n",
       "    }\n",
       "</style>\n",
       "<table border=\"1\" class=\"dataframe\">\n",
       "  <thead>\n",
       "    <tr style=\"text-align: right;\">\n",
       "      <th></th>\n",
       "      <th>date</th>\n",
       "      <th>year</th>\n",
       "      <th>type</th>\n",
       "      <th>country</th>\n",
       "      <th>state</th>\n",
       "      <th>activity</th>\n",
       "      <th>injury</th>\n",
       "    </tr>\n",
       "  </thead>\n",
       "  <tbody>\n",
       "  </tbody>\n",
       "</table>\n",
       "</div>"
      ],
      "text/plain": [
       "Empty DataFrame\n",
       "Columns: [date, year, type, country, state, activity, injury]\n",
       "Index: []"
      ]
     },
     "execution_count": 359,
     "metadata": {},
     "output_type": "execute_result"
    }
   ],
   "source": [
    "test2_df[test2_df[\"country\"] == \"nan\"]"
   ]
  },
  {
   "cell_type": "code",
   "execution_count": 367,
   "id": "b3772f26-a0c1-40de-a489-c1b54ff6e364",
   "metadata": {},
   "outputs": [
    {
     "data": {
      "text/plain": [
       "country\n",
       "usa             1585\n",
       "australia        601\n",
       "south africa     208\n",
       "brazil           108\n",
       "bahamas           91\n",
       "                ... \n",
       "st. martin         1\n",
       "kiribati           1\n",
       "nigeria            1\n",
       "saudi arabia       1\n",
       "angola             1\n",
       "Name: count, Length: 92, dtype: int64"
      ]
     },
     "execution_count": 367,
     "metadata": {},
     "output_type": "execute_result"
    }
   ],
   "source": [
    "test2_df.country.value_counts()"
   ]
  },
  {
   "cell_type": "code",
   "execution_count": 385,
   "id": "dee9448b-d6b5-49ab-93c9-f3f43944256b",
   "metadata": {},
   "outputs": [
    {
     "data": {
      "text/plain": [
       "date          0\n",
       "year          0\n",
       "type          0\n",
       "country       0\n",
       "state       135\n",
       "activity      0\n",
       "injury       10\n",
       "dtype: int64"
      ]
     },
     "execution_count": 385,
     "metadata": {},
     "output_type": "execute_result"
    }
   ],
   "source": [
    "test2_df.isna().sum()"
   ]
  },
  {
   "cell_type": "code",
   "execution_count": 389,
   "id": "029d3e79-cf5b-4a86-acb3-b10d12f74573",
   "metadata": {},
   "outputs": [
    {
     "data": {
      "text/plain": [
       "(3252, 7)"
      ]
     },
     "execution_count": 389,
     "metadata": {},
     "output_type": "execute_result"
    }
   ],
   "source": [
    "test2_df.shape"
   ]
  },
  {
   "cell_type": "code",
   "execution_count": 399,
   "id": "e66dd324-6a03-4e49-9949-9795121fe46e",
   "metadata": {},
   "outputs": [
    {
     "data": {
      "text/plain": [
       "activity\n",
       "surfing                           931\n",
       "swimming                          464\n",
       "fishing                           200\n",
       "spearfishing                      198\n",
       "unknown                           163\n",
       "                                 ... \n",
       "kayaking or wave skiing             1\n",
       "standing, collecting sea stars      1\n",
       "jumping in the waves                1\n",
       "diving, photographing sharks        1\n",
       "surfing (or sailboarding)           1\n",
       "Name: count, Length: 418, dtype: int64"
      ]
     },
     "execution_count": 399,
     "metadata": {},
     "output_type": "execute_result"
    }
   ],
   "source": [
    "test2_df.activity = test2_df.activity.replace([\"kayaking\", \"paddleboarding\", \"wakeboarding\", \"skimboarding\", \"kiteboarding\", \"foil boarding\"], \"other water sports\")\n",
    "test2_df.activity = test2_df.activity.replace([\"cleaning fish\", \"feeding fish\", \"casting a net\", \"collecting beche-de-mer\", \"preparing to fish for jack-mackerel\", \"removing fish from a trap\", \"scalloping\", \"shrimping\", \"picking opihi\"], \"other fishing activities\")\n",
    "test2_df.activity = test2_df.activity.replace([\"floating\", \"treading water\", \"splashing\", \"walking\", \"sitting\", \"kneeling in the water\", \"crouching in 2' of water\", \"lying prone in 2' of water\", \"crawling\", \"squatting in the water\", \"watching seals\", \"watching the sardine run\", \"sightseeing\"], \"recreational water activities\")\n",
    "test2_df.activity = test2_df.activity.replace([\"playing\", \"hiking on the beach\", \"jet skiing\", \"riding waves on a board\", \"attempting to attract dolphins\", \"attempting to catch a crocodile\", \"attempting to fix motor\", \"attempting to illegally enter the USA\", \"attempting to retrieve a dinghy\"], \"other activities\")\n",
    "test2_df.activity.value_counts()"
   ]
  },
  {
   "cell_type": "code",
   "execution_count": 401,
   "id": "bea1b0b9-2df2-4cd9-9cb2-a643b4b07de0",
   "metadata": {},
   "outputs": [
    {
     "data": {
      "text/plain": [
       "activity\n",
       "surfing                                1102\n",
       "swimming                                592\n",
       "fishing                                 504\n",
       "diving                                  203\n",
       "unknown                                 163\n",
       "                                       ... \n",
       "kayaking or wave skiing                   1\n",
       "military ocean training                   1\n",
       "casting a net                             1\n",
       "kneeling in the water                     1\n",
       "preparing to fish for jack-mackerel       1\n",
       "Name: count, Length: 117, dtype: int64"
      ]
     },
     "execution_count": 401,
     "metadata": {},
     "output_type": "execute_result"
    }
   ],
   "source": [
    "test_df.activity.value_counts()"
   ]
  },
  {
   "cell_type": "code",
   "execution_count": 403,
   "id": "0a951712-d284-4a04-9132-6380d04167a0",
   "metadata": {},
   "outputs": [
    {
     "data": {
      "text/plain": [
       "3252"
      ]
     },
     "execution_count": 403,
     "metadata": {},
     "output_type": "execute_result"
    }
   ],
   "source": [
    "len(test_df.activity)"
   ]
  },
  {
   "cell_type": "code",
   "execution_count": 405,
   "id": "129645bd-06b3-44f5-bbb5-f4affc9fda30",
   "metadata": {},
   "outputs": [
    {
     "data": {
      "text/plain": [
       "3252"
      ]
     },
     "execution_count": 405,
     "metadata": {},
     "output_type": "execute_result"
    }
   ],
   "source": [
    "len(test2_df.activity)"
   ]
  },
  {
   "cell_type": "code",
   "execution_count": 407,
   "id": "08bc3023-7a6d-4656-b8c4-0ab08c1d8585",
   "metadata": {},
   "outputs": [],
   "source": [
    "test2_df.activity = test_df.activity"
   ]
  },
  {
   "cell_type": "code",
   "execution_count": 409,
   "id": "d9818168-f746-4c67-8630-683e7ddf3723",
   "metadata": {},
   "outputs": [
    {
     "data": {
      "text/plain": [
       "activity\n",
       "surfing                                1102\n",
       "swimming                                592\n",
       "fishing                                 504\n",
       "diving                                  203\n",
       "unknown                                 163\n",
       "                                       ... \n",
       "kayaking or wave skiing                   1\n",
       "military ocean training                   1\n",
       "casting a net                             1\n",
       "kneeling in the water                     1\n",
       "preparing to fish for jack-mackerel       1\n",
       "Name: count, Length: 117, dtype: int64"
      ]
     },
     "execution_count": 409,
     "metadata": {},
     "output_type": "execute_result"
    }
   ],
   "source": [
    "test2_df.activity.value_counts()"
   ]
  },
  {
   "cell_type": "code",
   "execution_count": 439,
   "id": "669c3543-93c6-49f6-9913-a264c4e56675",
   "metadata": {},
   "outputs": [
    {
     "data": {
      "text/plain": [
       "activity\n",
       "surfing                                                                     1102\n",
       "swimming                                                                     592\n",
       "fishing                                                                      504\n",
       "diving                                                                       203\n",
       "unknown                                                                      163\n",
       "snorkeling                                                                   126\n",
       "wading                                                                       112\n",
       "other water sports                                                            81\n",
       "bodyboarding                                                                  69\n",
       "recreational water activities                                                 61\n",
       "boogie boarding                                                               59\n",
       "shark related activities                                                      50\n",
       "other activities                                                              46\n",
       "other fishing activities                                                      16\n",
       "exploration and training                                                      11\n",
       "sea disaster                                                                  11\n",
       "canoeing                                                                      10\n",
       "Disasters and Incidents                                                        6\n",
       "rowing                                                                         5\n",
       "disasters and incidents                                                        4\n",
       "sailing                                                                        2\n",
       "\"riding waves on a board\"                                                      1\n",
       "boeing 757 enroute from porta plata plunged into the sea                       1\n",
       "sinking of the 40' esperanza off st. maartin with 36 refugees on board         1\n",
       "stamding                                                                       1\n",
       "inflatable boat                                                                1\n",
       "scientific research (dr. sonny gruber's student)                               1\n",
       "wading in school of baitfish                                                   1\n",
       "canoe with 3 men onboard sank                                                  1\n",
       "air disaster - piper aircraft crashed into the sea, killing all on board       1\n",
       "kakaying                                                                       1\n",
       "batin                                                                          1\n",
       "attempting to retreive a dinghy                                                1\n",
       "swept out to sea by the tsunami, she clung  to a log for 24 hours              1\n",
       "the 426-ton cargo ship mia, laden with cement, capsized in heavy seas          1\n",
       "kayaking or wave skiing                                                        1\n",
       "feeding stingrays?                                                             1\n",
       "fihing                                                                         1\n",
       "towing a dead whale out to sea                                                 1\n",
       "                                                                               1\n",
       "Name: count, dtype: int64"
      ]
     },
     "execution_count": 439,
     "metadata": {},
     "output_type": "execute_result"
    }
   ],
   "source": [
    "test2_df.activity = test2_df.activity.replace([\"kayaking\", \"paddleboarding\", \"wakeboarding\", \"skimboarding\", \"kiteboarding\", \"foil boarding\"], \"other water sports\")\n",
    "test2_df.activity = test2_df.activity.replace([\"cleaning fish\", \"feeding fish\", \"casting a net\", \"collecting beche-de-mer\", \"preparing to fish for jack-mackerel\", \"removing fish from a trap\", \"scalloping\", \"shrimping\", \"picking opihi\"], \"other fishing activities\")\n",
    "test2_df.activity = test2_df.activity.replace([\"floating\", \"treading water\", \"splashing\", \"walking\", \"sitting\", \"kneeling in the water\", \"crouching in 2' of water\", \"lying prone in 2' of water\", \"crawling\", \"squatting in the water\", \"watching seals\", \"watching the sardine run\", \"sightseeing\"], \"recreational water activities\")\n",
    "test2_df.activity = test2_df.activity.replace([\"playing\", \"hiking on the beach\", \"jet skiing\", \"riding waves on a board\", \"attempting to attract dolphins\", \"attempting to catch a crocodile\", \"attempting to fix motor\", \"attempting to illegally enter the USA\", \"attempting to retrieve a dinghy\"], \"other activities\")\n",
    "test2_df.activity.value_counts()"
   ]
  },
  {
   "cell_type": "code",
   "execution_count": 421,
   "id": "d2acdb0d-3204-4653-8cb7-b4fac45bfb9a",
   "metadata": {},
   "outputs": [],
   "source": [
    "test2_df.activity = test2_df.activity.replace([\"sea Disaster\", \"adrift in a life jacket\", \"adrift on refugee raft\", \"rescuing\", \"swept out to sea by the tsunami\", \"owing a dead whale out to sea\",\"towing rubber dinghy\",\"air disaster\", \"2 boats capsized\", \"boeing 757 incident\"], \"other activities\")"
   ]
  },
  {
   "cell_type": "code",
   "execution_count": 441,
   "id": "98fe22e5-994a-40a2-88eb-3e3fb465862d",
   "metadata": {},
   "outputs": [],
   "source": [
    "test2_df.activity = test2_df.activity.replace([\"kite boarding\", \"kite-boarding\", \"foil-boarding\", \"foilboarding\", \"kite foiling\", \"sup foil boarding\", \"parasailing\"], \"other water sports\")\n",
    "test2_df.activity = test2_df.activity.replace([\"fisherman\", \"spearishing\", \"crabbing\", \"lobstering\"], \"other fishing activities\")\n",
    "test2_df.activity = test2_df.activity.replace([\"bathing\", \"night bathing\", \"sup\", \"sitting in the water\", \"walking in shallows\", \"wading to shore from his boat\", \"wading?\", \"splashing / wading\"], \"recreational water activities\")\n",
    "test2_df.activity = test2_df.activity.replace([\"air disaster\", \"air disaster - piper aircraft crashed into the sea\", \"air disaster. flash airlines boeing 737 crashed into the red sea\", \"sinking of the 40' esperanza off st. maartin\", \"shipwreck\", \"shipwrecked\", \"the 426-ton cargo ship mia capsized\", \"sinking of the cargo ship mark jason\", \"swept out to sea by the tsunami\"], \"disasters and incidents\")\n",
    "test2_df.activity = test2_df.activity.replace([\"murder\", \"murder victim\", \"photographing\", \"filming\", \"cruising\", \"yacht race\", \"sleeping in anchored boat\", \"attempting to illegally enter the usa\", \"attempting to retrieve a dinghy\", \"holding onto an inflatable boat\", \"rowing an inflatable dinghy\", \"washing hands\", \"washing his feet\", \"washing sand off a speared fish\", \"riding waves on a board\"], \"other activities\")\n",
    "test2_df.activity = test2_df.activity.replace([\"on a round-the-world expedition\", \"lifeguard exercises\", \"lifeguard training exercise\", \"lifesaving drill\", \"military ocean training\", \"scientific research\", \"conducting research\", \"competing in the woodvale atlantic rowing race\", \"transatlantic rowing\"], \"exploration and training\")\n",
    "test2_df.activity = test2_df.activity.replace([\"sailing\", \"kayaking or wave skiing\", \"kakaying\", \"riding waves on a board\"], \"other water sports\")\n",
    "test2_df.activity = test2_df.activity.replace([\"boeing 757 enroute from porta plata plunged into the sea\", \"sinking of the 40' esperanza off st. maartin with 36 refugees on board\", \"swept out to sea by the tsunami, she clung to a log for 24 hours\", \"the 426-ton cargo ship mia, laden with cement, capsized in heavy seas\", \"air disaster - piper aircraft crashed into the sea, killing all on board\", \"canoe with 3 men onboard sank\"], \"disasters and incidents\")\n",
    "test2_df.activity = test2_df.activity.replace([\"scientific research (dr. sonny gruber's student)\", \"attempting to retrieve a dinghy\"], \"exploration and training\")\n",
    "test2_df.activity = test2_df.activity.replace([\"feeding stingrays?\", \"fihing\", \"towing a dead whale out to sea\"], \"other fishing activities\")\n",
    "test2_df.activity = test2_df.activity.replace([\"wading in school of baitfish\", \"batin\", \"inflatable boat\", \"stamding\"], \"recreational water activities\")"
   ]
  },
  {
   "cell_type": "code",
   "execution_count": 447,
   "id": "86ddff09-3ffa-47d1-b9fe-8bdc2c7e17fe",
   "metadata": {},
   "outputs": [
    {
     "data": {
      "text/plain": [
       "activity\n",
       "surfing                          1102\n",
       "swimming                          592\n",
       "fishing                           504\n",
       "diving                            203\n",
       "unknown                           163\n",
       "snorkeling                        126\n",
       "wading                            112\n",
       "other water sports                 85\n",
       "recreational water activities      82\n",
       "bodyboarding                       69\n",
       "boogie boarding                    59\n",
       "shark related activities           50\n",
       "other activities                   46\n",
       "disasters and incidents            27\n",
       "other fishing activities           19\n",
       "exploration and training           12\n",
       "                                    1\n",
       "Name: count, dtype: int64"
      ]
     },
     "execution_count": 447,
     "metadata": {},
     "output_type": "execute_result"
    }
   ],
   "source": [
    "test2_df.activity.value_counts()"
   ]
  },
  {
   "cell_type": "code",
   "execution_count": 445,
   "id": "33e9875d-6317-473f-a753-452bfdd5752c",
   "metadata": {},
   "outputs": [],
   "source": [
    "test2_df.activity = test2_df.activity.replace([\"Disasters and Incidents\", \"swept out to sea by the tsunami, she clung  to a log for 24 hours\", \"sea disaster\"], \"disasters and incidents\")\n",
    "test2_df.activity = test2_df.activity.replace([\"rowing\", '\"riding waves on a board\"', \"canoeing\", \"attempting to retreive a dinghy\"], \"recreational water activities\")\n"
   ]
  },
  {
   "cell_type": "code",
   "execution_count": null,
   "id": "297cfd56-8c8d-444e-8ee5-65cfed2ac3c4",
   "metadata": {},
   "outputs": [],
   "source": [
    "#test2_df.activity = test2_df.activity.replace([], \"\")"
   ]
  },
  {
   "cell_type": "code",
   "execution_count": 451,
   "id": "c1041a1a-8bad-466b-90aa-81b3a7648410",
   "metadata": {},
   "outputs": [
    {
     "data": {
      "text/plain": [
       "activity\n",
       "surfing                          1102\n",
       "swimming                          592\n",
       "fishing                           504\n",
       "diving                            203\n",
       "unknown                           164\n",
       "snorkeling                        126\n",
       "wading                            112\n",
       "other water sports                 85\n",
       "recreational water activities      82\n",
       "bodyboarding                       69\n",
       "boogie boarding                    59\n",
       "shark related activities           50\n",
       "other activities                   46\n",
       "disasters and incidents            27\n",
       "other fishing activities           19\n",
       "exploration and training           12\n",
       "Name: count, dtype: int64"
      ]
     },
     "execution_count": 451,
     "metadata": {},
     "output_type": "execute_result"
    }
   ],
   "source": [
    "test2_df.activity = test2_df.activity.replace(\"\", \"unknown\")\n",
    "test2_df.activity.value_counts()"
   ]
  },
  {
   "cell_type": "code",
   "execution_count": 580,
   "id": "5421f3e4-8ca1-4c5c-90b8-7f87638fda14",
   "metadata": {},
   "outputs": [],
   "source": [
    "test3_df = test2_df.copy()"
   ]
  },
  {
   "cell_type": "code",
   "execution_count": 582,
   "id": "62842dd8-8e55-4708-a6a5-fca11138a7db",
   "metadata": {},
   "outputs": [
    {
     "name": "stdout",
     "output_type": "stream",
     "text": [
      "<class 'pandas.core.frame.DataFrame'>\n",
      "Index: 3252 entries, 3 to 3256\n",
      "Data columns (total 7 columns):\n",
      " #   Column    Non-Null Count  Dtype \n",
      "---  ------    --------------  ----- \n",
      " 0   date      3252 non-null   object\n",
      " 1   year      3252 non-null   int32 \n",
      " 2   type      3252 non-null   object\n",
      " 3   country   3252 non-null   object\n",
      " 4   state     3117 non-null   object\n",
      " 5   activity  3252 non-null   object\n",
      " 6   injury    3242 non-null   object\n",
      "dtypes: int32(1), object(6)\n",
      "memory usage: 190.5+ KB\n"
     ]
    }
   ],
   "source": [
    "test3_df.info()"
   ]
  },
  {
   "cell_type": "code",
   "execution_count": 584,
   "id": "06fa1ad5-d86a-43c4-830f-ff8c8bcadb6d",
   "metadata": {},
   "outputs": [
    {
     "data": {
      "text/plain": [
       "date          0\n",
       "year          0\n",
       "type          0\n",
       "country       0\n",
       "state       135\n",
       "activity      0\n",
       "injury       10\n",
       "dtype: int64"
      ]
     },
     "execution_count": 584,
     "metadata": {},
     "output_type": "execute_result"
    }
   ],
   "source": [
    "test3_df.isna().sum()"
   ]
  },
  {
   "cell_type": "code",
   "execution_count": 586,
   "id": "80ab88b3-332d-431a-b782-576b2572284f",
   "metadata": {},
   "outputs": [
    {
     "data": {
      "text/plain": [
       "date          0\n",
       "year          0\n",
       "type          0\n",
       "country       0\n",
       "state       135\n",
       "activity      0\n",
       "injury        0\n",
       "dtype: int64"
      ]
     },
     "execution_count": 586,
     "metadata": {},
     "output_type": "execute_result"
    }
   ],
   "source": [
    "test3_df.injury = test3_df.injury.fillna(\"Unknown\")\n",
    "test3_df.isna().sum()"
   ]
  },
  {
   "cell_type": "code",
   "execution_count": 588,
   "id": "057aaf4b-6f7f-4839-9005-c7eff134550d",
   "metadata": {},
   "outputs": [],
   "source": [
    "# pasamos los datos a minusculas\n",
    "test3_df.injury = test3_df.injury.apply(lambda x: x.lower().strip())"
   ]
  },
  {
   "cell_type": "code",
   "execution_count": 768,
   "id": "b319b042-a4c8-475f-8d87-799c2af8b617",
   "metadata": {},
   "outputs": [
    {
     "data": {
      "text/plain": [
       "['no inury',\n",
       " 'no inury, board broken in half by shark',\n",
       " 'no inury, knocked from board',\n",
       " 'no inury, shark & board collided',\n",
       " \"no inury, shark caught leash attached to surfer's ankle & towed him a short distance\",\n",
       " 'no inury, ski damaged']"
      ]
     },
     "execution_count": 768,
     "metadata": {},
     "output_type": "execute_result"
    }
   ],
   "source": [
    "#Buscador en injury:\n",
    "list(test3_df[test3_df.injury.str.contains(\"inury\")].injury.sort_values().unique())"
   ]
  },
  {
   "cell_type": "code",
   "execution_count": null,
   "id": "9fa1f0b7-f8f8-4da4-89fa-3d00d5edf4b4",
   "metadata": {},
   "outputs": [],
   "source": [
    "#test3_df.injury = test3_df.injury.replace([], \"\")"
   ]
  },
  {
   "cell_type": "code",
   "execution_count": 840,
   "id": "ea83c5b1-f065-439b-b36d-76461e2008c3",
   "metadata": {},
   "outputs": [],
   "source": [
    "test3_df.injury = test3_df.injury.str.replace(\".*presumed fatal.*\", \"fatal\", regex = True)\n",
    "test3_df.injury = test3_df.injury.str.replace(\".*bod.*\", \"fatal\", regex = True)\n",
    "test3_df.injury = test3_df.injury.str.replace(\".* fatal.*\", \"fatal\", regex = True)\n",
    "test3_df.injury = test3_df.injury.str.replace(\".*fatal,.*\", \"fatal\", regex = True)\n",
    "test3_df.injury = test3_df.injury.str.replace(\".*fatal .*\", \"fatal\", regex = True)\n",
    "test3_df.injury = test3_df.injury.str.replace(\".*no injur.*\", \"no-injury\", regex = True)\n",
    "test3_df.injury = test3_df.injury.str.replace(\".*no ij*nur.*\", \"no-injury\", regex = True)\n",
    "test3_df.injury = test3_df.injury.str.replace(\".* injur.*\", \"injured\", regex = True)\n",
    "test3_df.injury = test3_df.injury.str.replace(\"^injur.*\", \"injured\", regex = True)\n",
    "test3_df.injury = test3_df.injury.str.replace(\".*bit.*\", \"injured\", regex = True)\n",
    "test3_df.injury = test3_df.injury.str.replace(\".*lace.*\", \"injured\", regex = True)\n",
    "test3_df.injury = test3_df.injury.str.replace(\".*wound.*\", \"injured\", regex = True)\n",
    "test3_df.injury = test3_df.injury.str.replace(\".*sever.*\", \"injured\", regex = True)\n",
    "test3_df.injury = test3_df.injury.str.replace(\".*abras.*\", \"injured\", regex = True)\n",
    "test3_df.injury = test3_df.injury.str.replace(\".*cut.*\", \"injured\", regex = True)\n",
    "test3_df.injury = test3_df.injury.str.replace(\".*bruis.*\", \"injured\", regex = True)\n",
    "test3_df.injury = test3_df.injury.str.replace(\".*minor.*\", \"injured\", regex = True)\n",
    "test3_df.injury = test3_df.injury.str.replace(\".*punct.*\", \"injured\", regex = True)\n",
    "test3_df.injury = test3_df.injury.str.replace(\".*death.*\", \"fatal\", regex = True)\n",
    "test3_df.injury = test3_df.injury.str.replace(\".*kill.*\", \"fatal\", regex = True)\n",
    "test3_df.injury = test3_df.injury.str.replace(\".*disappear.*\", \"fatal\", regex = True)\n",
    "test3_df.injury = test3_df.injury.str.replace(\".*drown.*\", \"fatal\", regex = True)\n",
    "test3_df.injury = test3_df.injury.str.replace(\".*missi.*\", \"fatal\", regex = True)\n",
    "test3_df.injury = test3_df.injury.str.replace(\".*survived.*\", \"survived\", regex = True)"
   ]
  },
  {
   "cell_type": "code",
   "execution_count": 836,
   "id": "59ccacfe-6906-4311-af56-a14bf8ce12a0",
   "metadata": {},
   "outputs": [],
   "source": [
    "test3_df.injury = test3_df.injury.replace(['never happened; it was a  hoax', \"provoked incident scratches to left wrist\", \"light scratch on hand/wrist area\", \"reports said a shark attacked the dinghy, but Vickery said it did not\",\"toothmarks in board & his swim trunks\", \"light scratch on hand/wrist area\", \"a hoax, no shark involvement\", \"black eye\", \"board snapped in two\", \"his boat was holed by a shark\", \"never happened; it was a hoax\", \"no attack, shark made a threat display\", \"provoked incident scratches to left wrist\", \"reports said a shark attacked the dinghy, but Vickery said it did not\", \"shark leapt onto surfboard; surfer uninjured\", \"stepped on shark provoked incident\", \"surf washed the dying shark against her foot provoked incident\"], \"no-injury\")\n",
    "test3_df.injury = test3_df.injury.replace(['provoked incident  scratches to left wrist','left hand and  left leg.', 'leg struck. initally reported as a shark attack, but involved a swordfish','hands, back and thigh inujured',\"finger broken when 1.8 m [6'] hooked grey reef shark  grabbed his catch\",'\"light scratch on hand/wrist area\"',\"non-fatal\",\"arm amputated below shoulder\",\"boy lost arm, dive guide lost leg,\",'\"serious\"', \"20 cm gash to right leg\", \"4 scratches on left hand\", \"5-inch gash in foot\", \"6-inch gash on right foot\", \"9-inch gash in left foot\", \"arm grabbed provoked incident\", \"back of left hand gashed\", \"bottom of left foot gashed\", \"calf muscle removed\", \"finger broken when 1.8 m [6'] hooked grey reef shark grabbed his catch\", \"finger nipped by captive shark provoked incident\", \"fingernail pulled off\", \"foot nipped\", \"gash on ankle\", \"gash to thigh\", \"hand nipped provoked incident\", \"hands, back and thigh injured\", \"heel & sole of left foot\", \"inuries to lower left leg & ankle\", \"left calf avulsion\", \"left hand and left leg.\", \"left inner thigh\", \"left knee nipped by captive shark provoked incident\", \"left leg gashed\", \"left leg gashed knee to ankle\", \"left torso grazed\", \"leg pinched\", \"major damage to right leg later amputated lower left leg left hand and forearm\", \"nick on foot\", \"nip to left foot\", \"non-life-threatening to left lower leg & foot\", \"right calf abraded\", \"scrape to right forearm. frennet says inflicted by a blue shark, but authorities question shark involvement\", \"scratch on face provoked incident\", \"scratches to calf\", \"shark bumped right ankle\", \"shark grasped diver's gloved hand. glove was soaked with fish blood & slime\", \"struck by fin on chest & leg\", \"suffered broken ribs when the shark's tail fin slammed into his chest\", \"thigh\", \"thigh nipped provoked incident\", \"thumb & finger nipped\", \"tissue removed knee to thigh\", \"torn shoulder ligament as result of collision with shark\", \"torso nipped\", \"two fingers lost provoked incident\", '5\\\" gash in foot', \"finger broken when 1.8 m [6'] hooked grey reef shark grabbed his catch\", \"hands, back and thigh injured\", \"left hand and left leg.\", \"right hand & part of forearm removed\", \"right thigh\", \"upper left thigh avulsed\", \"non-swimmer pulled off pier& into the water by a hooked shark provoked incident\"], \"injured\")\n",
    "test3_df.injury = test3_df.injury.replace(['possible drowing and scavenging',\"shark involvement probably post-mortem\",'5 m white shark obsrved feeding on remains 6 days later', \"remains recovered from gut of a 3.7 m [12'] tiger shark\", \"sharks prevented recovery of remains\",\"presumed taken by a shark,  but forensic evidence suggested otherwise.\", \"sharks prevented recovery of remains\", \"remains recovered from gut of a  3.7 m [12'] tiger shark\", \"5 m white shark observed feeding on remains 6 days later\", \"bones recovered by fishermen in 300-kg [662-lb] white shark’s gut\", \"human foot recovered from the water\", \"human remains (right forearm & leg) recovered from 3.7m [12'] tiger shark’s gut. forensic examination suggested the remains had been consumed by the shark one to two weeks earlier\", \"no survivors, sharks scavenged on remains\", \"partial remains recovered 12/26/2019 from shark\", \"presumed taken by a shark, but forensic evidence suggested otherwise\", \"remains recovered from gut of a 3.7 m [12'] tiger shark\", \"shark scavenged on his corpse\", \"sharks took some of the crew\"], \"fatal\")\n",
    "test3_df.injury = test3_df.injury.replace(['shark involvement not confirmed', 'shark involvement unconfirmed', 'stingray envenomation, not a shark','reports said a shark attacked the dinghy, but vickery said it did not','questionable','provoked incident?','provoked incident','possibly a provoked incident',\"note: see 1992.06.28\", \"\", \"unknown / unconfirmed\", \"no details\"], \"unknown\")"
   ]
  },
  {
   "cell_type": "code",
   "execution_count": 842,
   "id": "d5f77755-b137-4a5b-939f-4a70be5209c2",
   "metadata": {},
   "outputs": [
    {
     "data": {
      "text/plain": [
       "['fatal', 'injured', 'no-injury', 'survived', 'unknown']"
      ]
     },
     "execution_count": 842,
     "metadata": {},
     "output_type": "execute_result"
    }
   ],
   "source": [
    "list(test3_df.injury.sort_values().unique())"
   ]
  },
  {
   "cell_type": "code",
   "execution_count": 844,
   "id": "51d20ed4-c2c3-483d-aa50-eae64fe11c50",
   "metadata": {
    "scrolled": true
   },
   "outputs": [
    {
     "data": {
      "text/plain": [
       "injury\n",
       "injured      2335\n",
       "no-injury     471\n",
       "fatal         383\n",
       "unknown        32\n",
       "survived       31\n",
       "Name: count, dtype: int64"
      ]
     },
     "execution_count": 844,
     "metadata": {},
     "output_type": "execute_result"
    }
   ],
   "source": [
    "test3_df.injury.value_counts()"
   ]
  },
  {
   "cell_type": "code",
   "execution_count": 848,
   "id": "46836f78-8e0e-43fb-837a-c695d30a9602",
   "metadata": {},
   "outputs": [],
   "source": [
    "final_df = test3_df.copy()"
   ]
  },
  {
   "cell_type": "code",
   "execution_count": 854,
   "id": "f73af968-a852-40c1-a7de-17006954d5ea",
   "metadata": {},
   "outputs": [],
   "source": [
    "final_df = final_df.drop(columns = [\"date\", \"state\"])"
   ]
  },
  {
   "cell_type": "code",
   "execution_count": 894,
   "id": "4c97fe82-1c45-4215-a89a-2d26a138c44b",
   "metadata": {
    "scrolled": true
   },
   "outputs": [
    {
     "data": {
      "text/plain": [
       "type\n",
       "unprovoked    2760\n",
       "unknown        247\n",
       "provoked       245\n",
       "Name: count, dtype: int64"
      ]
     },
     "execution_count": 894,
     "metadata": {},
     "output_type": "execute_result"
    }
   ],
   "source": [
    "final_df.type.value_counts()"
   ]
  },
  {
   "cell_type": "code",
   "execution_count": 892,
   "id": "cb04c221-8dcd-42cf-b59d-5e192f590201",
   "metadata": {},
   "outputs": [],
   "source": [
    "final_df.type = final_df.type.replace(['invalid', 'questionable'], \"unknown\")\n",
    "final_df.type = final_df.type.replace([\"watercraft\", \"sea disaster\"], \"unprovoked\")"
   ]
  },
  {
   "cell_type": "code",
   "execution_count": 884,
   "id": "9f7d02b5-0960-42d7-a540-f731d0dd8d6c",
   "metadata": {
    "scrolled": true
   },
   "outputs": [
    {
     "data": {
      "text/plain": [
       "['Invalid',\n",
       " 'Provoked',\n",
       " 'Questionable',\n",
       " 'Sea Disaster',\n",
       " 'Unknown',\n",
       " 'Unprovoked',\n",
       " 'Watercraft']"
      ]
     },
     "execution_count": 884,
     "metadata": {},
     "output_type": "execute_result"
    }
   ],
   "source": [
    "list(final_df.type.sort_values().unique())"
   ]
  },
  {
   "cell_type": "code",
   "execution_count": 886,
   "id": "4d37c218-d7f4-4d69-8ab3-f4269aabcd3f",
   "metadata": {},
   "outputs": [],
   "source": [
    "final_df.type = final_df.type.apply(lambda x: x.lower().strip())"
   ]
  },
  {
   "cell_type": "code",
   "execution_count": 896,
   "id": "2c386ade-5f56-466b-81e2-2dff82ee8f67",
   "metadata": {},
   "outputs": [
    {
     "name": "stdout",
     "output_type": "stream",
     "text": [
      "<class 'pandas.core.frame.DataFrame'>\n",
      "Index: 3252 entries, 3 to 3256\n",
      "Data columns (total 5 columns):\n",
      " #   Column    Non-Null Count  Dtype \n",
      "---  ------    --------------  ----- \n",
      " 0   year      3252 non-null   int32 \n",
      " 1   type      3252 non-null   object\n",
      " 2   country   3252 non-null   object\n",
      " 3   activity  3252 non-null   object\n",
      " 4   injury    3252 non-null   object\n",
      "dtypes: int32(1), object(4)\n",
      "memory usage: 139.7+ KB\n"
     ]
    }
   ],
   "source": [
    "final_df.info()"
   ]
  },
  {
   "cell_type": "code",
   "execution_count": 991,
   "id": "5cb2c864-9e3b-45f6-96d0-06e0f69828f9",
   "metadata": {
    "scrolled": true
   },
   "outputs": [
    {
     "data": {
      "text/plain": [
       "country\n",
       "usa                                    519\n",
       "australia                              254\n",
       "south africa                            44\n",
       "bahamas                                 44\n",
       "brazil                                  21\n",
       "mexico                                  21\n",
       "new zealand                             21\n",
       "new caledonia                           20\n",
       "french polynesia                        20\n",
       "egypt                                   14\n",
       "spain                                   10\n",
       "UK (including overseas territories)      9\n",
       "reunion                                  8\n",
       "fiji                                     7\n",
       "thailand                                 7\n",
       "maldives                                 6\n",
       "costa rica                               5\n",
       "jamaica                                  4\n",
       "ecuador                                  4\n",
       "reunion island                           4\n",
       "belize                                   4\n",
       "cuba                                     4\n",
       "indonesia                                3\n",
       "china                                    3\n",
       "japan                                    3\n",
       "mozambique                               3\n",
       "samoa                                    3\n",
       "seychelles                               2\n",
       "columbia                                 2\n",
       "united arab emirates                     2\n",
       "philippines                              2\n",
       "italy                                    2\n",
       "colombia                                 2\n",
       "cape verde                               1\n",
       "united kingdom                           1\n",
       "comoros                                  1\n",
       "solomon islands                          1\n",
       "mauritius                                1\n",
       "netherlands                              1\n",
       "unknown                                  1\n",
       "malaysia                                 1\n",
       "libya                                    1\n",
       "dominican republic                       1\n",
       "morocco                                  1\n",
       "ireland                                  1\n",
       "israel                                   1\n",
       "papua new guinea                         1\n",
       "st martin                                1\n",
       "Saint Kitts and Nevis                    1\n",
       "jordan                                   1\n",
       "canada                                   1\n",
       "argentina                                1\n",
       "portugal                                 1\n",
       "trinidad                                 1\n",
       "india                                    1\n",
       "Trinidad and Tobago                      1\n",
       "middle of the ocean                      1\n",
       "Name: count, dtype: int64"
      ]
     },
     "execution_count": 991,
     "metadata": {},
     "output_type": "execute_result"
    }
   ],
   "source": [
    "countries_10_yrs_df = final_df[(final_df[\"year\"] >= 2015) & (final_df[\"year\"] <= 2024)].country.value_counts()\n",
    "countries_10_yrs_df"
   ]
  },
  {
   "cell_type": "code",
   "execution_count": 993,
   "id": "6197fbdf-339a-436f-b714-bb311216b827",
   "metadata": {},
   "outputs": [
    {
     "data": {
      "text/plain": [
       "['usa', 'australia', 'south africa', 'bahamas', 'brazil']"
      ]
     },
     "execution_count": 993,
     "metadata": {},
     "output_type": "execute_result"
    }
   ],
   "source": [
    "top5_countries = list(countries_10_yrs_df.index.values)[0:5]\n",
    "top5_countries"
   ]
  },
  {
   "cell_type": "code",
   "execution_count": 1182,
   "id": "d2f5e2ae-2b45-4045-ae36-391cda664a58",
   "metadata": {},
   "outputs": [
    {
     "data": {
      "text/plain": [
       "['usa', 'australia']"
      ]
     },
     "execution_count": 1182,
     "metadata": {},
     "output_type": "execute_result"
    }
   ],
   "source": [
    "top2_countries = list(countries_10_yrs_df.index.values)[0:2]\n",
    "top2_countries"
   ]
  },
  {
   "cell_type": "code",
   "execution_count": 998,
   "id": "de49e56c-b242-4560-aa9e-aff14464b635",
   "metadata": {},
   "outputs": [],
   "source": [
    "last10top5_df = final_df[(final_df[\"year\"] >= 2015) & (final_df[\"year\"] <= 2024) & (final_df[\"country\"].isin(top5_countries))]"
   ]
  },
  {
   "cell_type": "code",
   "execution_count": 1002,
   "id": "14fbcda4-d05d-4c6c-94bb-f5b87b20b056",
   "metadata": {},
   "outputs": [
    {
     "data": {
      "text/html": [
       "<div>\n",
       "<style scoped>\n",
       "    .dataframe tbody tr th:only-of-type {\n",
       "        vertical-align: middle;\n",
       "    }\n",
       "\n",
       "    .dataframe tbody tr th {\n",
       "        vertical-align: top;\n",
       "    }\n",
       "\n",
       "    .dataframe thead th {\n",
       "        text-align: right;\n",
       "    }\n",
       "</style>\n",
       "<table border=\"1\" class=\"dataframe\">\n",
       "  <thead>\n",
       "    <tr style=\"text-align: right;\">\n",
       "      <th></th>\n",
       "      <th>year</th>\n",
       "      <th>type</th>\n",
       "      <th>country</th>\n",
       "      <th>activity</th>\n",
       "      <th>injury</th>\n",
       "    </tr>\n",
       "  </thead>\n",
       "  <tbody>\n",
       "    <tr>\n",
       "      <th>6</th>\n",
       "      <td>2024</td>\n",
       "      <td>unprovoked</td>\n",
       "      <td>australia</td>\n",
       "      <td>surfing</td>\n",
       "      <td>injured</td>\n",
       "    </tr>\n",
       "    <tr>\n",
       "      <th>7</th>\n",
       "      <td>2024</td>\n",
       "      <td>unprovoked</td>\n",
       "      <td>australia</td>\n",
       "      <td>surfing</td>\n",
       "      <td>injured</td>\n",
       "    </tr>\n",
       "    <tr>\n",
       "      <th>8</th>\n",
       "      <td>2024</td>\n",
       "      <td>unprovoked</td>\n",
       "      <td>usa</td>\n",
       "      <td>diving</td>\n",
       "      <td>injured</td>\n",
       "    </tr>\n",
       "    <tr>\n",
       "      <th>9</th>\n",
       "      <td>2024</td>\n",
       "      <td>unprovoked</td>\n",
       "      <td>usa</td>\n",
       "      <td>wading</td>\n",
       "      <td>injured</td>\n",
       "    </tr>\n",
       "    <tr>\n",
       "      <th>10</th>\n",
       "      <td>2024</td>\n",
       "      <td>unprovoked</td>\n",
       "      <td>usa</td>\n",
       "      <td>swimming</td>\n",
       "      <td>injured</td>\n",
       "    </tr>\n",
       "    <tr>\n",
       "      <th>...</th>\n",
       "      <td>...</td>\n",
       "      <td>...</td>\n",
       "      <td>...</td>\n",
       "      <td>...</td>\n",
       "      <td>...</td>\n",
       "    </tr>\n",
       "    <tr>\n",
       "      <th>1102</th>\n",
       "      <td>2015</td>\n",
       "      <td>unprovoked</td>\n",
       "      <td>australia</td>\n",
       "      <td>other activities</td>\n",
       "      <td>injured</td>\n",
       "    </tr>\n",
       "    <tr>\n",
       "      <th>1103</th>\n",
       "      <td>2015</td>\n",
       "      <td>unknown</td>\n",
       "      <td>usa</td>\n",
       "      <td>swimming</td>\n",
       "      <td>injured</td>\n",
       "    </tr>\n",
       "    <tr>\n",
       "      <th>1104</th>\n",
       "      <td>2015</td>\n",
       "      <td>unprovoked</td>\n",
       "      <td>bahamas</td>\n",
       "      <td>snorkeling</td>\n",
       "      <td>injured</td>\n",
       "    </tr>\n",
       "    <tr>\n",
       "      <th>1105</th>\n",
       "      <td>2015</td>\n",
       "      <td>unprovoked</td>\n",
       "      <td>south africa</td>\n",
       "      <td>surfing</td>\n",
       "      <td>injured</td>\n",
       "    </tr>\n",
       "    <tr>\n",
       "      <th>1106</th>\n",
       "      <td>2015</td>\n",
       "      <td>unprovoked</td>\n",
       "      <td>usa</td>\n",
       "      <td>unknown</td>\n",
       "      <td>injured</td>\n",
       "    </tr>\n",
       "  </tbody>\n",
       "</table>\n",
       "<p>882 rows × 5 columns</p>\n",
       "</div>"
      ],
      "text/plain": [
       "      year        type       country          activity   injury\n",
       "6     2024  unprovoked     australia           surfing  injured\n",
       "7     2024  unprovoked     australia           surfing  injured\n",
       "8     2024  unprovoked           usa            diving  injured\n",
       "9     2024  unprovoked           usa            wading  injured\n",
       "10    2024  unprovoked           usa          swimming  injured\n",
       "...    ...         ...           ...               ...      ...\n",
       "1102  2015  unprovoked     australia  other activities  injured\n",
       "1103  2015     unknown           usa          swimming  injured\n",
       "1104  2015  unprovoked       bahamas        snorkeling  injured\n",
       "1105  2015  unprovoked  south africa           surfing  injured\n",
       "1106  2015  unprovoked           usa           unknown  injured\n",
       "\n",
       "[882 rows x 5 columns]"
      ]
     },
     "execution_count": 1002,
     "metadata": {},
     "output_type": "execute_result"
    }
   ],
   "source": [
    "last10top5_df"
   ]
  },
  {
   "cell_type": "code",
   "execution_count": 1062,
   "id": "0ab13cdf-9e09-407b-889f-4c48be57e0ff",
   "metadata": {},
   "outputs": [],
   "source": [
    "since_2015_total_df = last10top5_df.groupby(['year'])['injury'].agg(['count'])"
   ]
  },
  {
   "cell_type": "code",
   "execution_count": 1064,
   "id": "42413a43-8b28-47ec-bba9-0450917b29ec",
   "metadata": {},
   "outputs": [
    {
     "data": {
      "text/html": [
       "<div>\n",
       "<style scoped>\n",
       "    .dataframe tbody tr th:only-of-type {\n",
       "        vertical-align: middle;\n",
       "    }\n",
       "\n",
       "    .dataframe tbody tr th {\n",
       "        vertical-align: top;\n",
       "    }\n",
       "\n",
       "    .dataframe thead th {\n",
       "        text-align: right;\n",
       "    }\n",
       "</style>\n",
       "<table border=\"1\" class=\"dataframe\">\n",
       "  <thead>\n",
       "    <tr style=\"text-align: right;\">\n",
       "      <th></th>\n",
       "      <th>count</th>\n",
       "    </tr>\n",
       "    <tr>\n",
       "      <th>year</th>\n",
       "      <th></th>\n",
       "    </tr>\n",
       "  </thead>\n",
       "  <tbody>\n",
       "    <tr>\n",
       "      <th>2015</th>\n",
       "      <td>120</td>\n",
       "    </tr>\n",
       "    <tr>\n",
       "      <th>2016</th>\n",
       "      <td>107</td>\n",
       "    </tr>\n",
       "    <tr>\n",
       "      <th>2017</th>\n",
       "      <td>108</td>\n",
       "    </tr>\n",
       "    <tr>\n",
       "      <th>2018</th>\n",
       "      <td>100</td>\n",
       "    </tr>\n",
       "    <tr>\n",
       "      <th>2019</th>\n",
       "      <td>92</td>\n",
       "    </tr>\n",
       "    <tr>\n",
       "      <th>2020</th>\n",
       "      <td>84</td>\n",
       "    </tr>\n",
       "    <tr>\n",
       "      <th>2021</th>\n",
       "      <td>88</td>\n",
       "    </tr>\n",
       "    <tr>\n",
       "      <th>2022</th>\n",
       "      <td>82</td>\n",
       "    </tr>\n",
       "    <tr>\n",
       "      <th>2023</th>\n",
       "      <td>79</td>\n",
       "    </tr>\n",
       "    <tr>\n",
       "      <th>2024</th>\n",
       "      <td>22</td>\n",
       "    </tr>\n",
       "  </tbody>\n",
       "</table>\n",
       "</div>"
      ],
      "text/plain": [
       "      count\n",
       "year       \n",
       "2015    120\n",
       "2016    107\n",
       "2017    108\n",
       "2018    100\n",
       "2019     92\n",
       "2020     84\n",
       "2021     88\n",
       "2022     82\n",
       "2023     79\n",
       "2024     22"
      ]
     },
     "execution_count": 1064,
     "metadata": {},
     "output_type": "execute_result"
    }
   ],
   "source": [
    "since_2015_total_df"
   ]
  },
  {
   "cell_type": "code",
   "execution_count": 1004,
   "id": "eadacc96-54a9-4342-bb34-6104de861635",
   "metadata": {},
   "outputs": [],
   "source": [
    "since_2015_df = last10top5_df.groupby(['year', \"country\"])['injury'].agg(['count'])"
   ]
  },
  {
   "cell_type": "code",
   "execution_count": 1024,
   "id": "271e105b-f74b-4a52-8aa7-d30a92744edd",
   "metadata": {},
   "outputs": [
    {
     "data": {
      "text/html": [
       "<div>\n",
       "<style scoped>\n",
       "    .dataframe tbody tr th:only-of-type {\n",
       "        vertical-align: middle;\n",
       "    }\n",
       "\n",
       "    .dataframe tbody tr th {\n",
       "        vertical-align: top;\n",
       "    }\n",
       "\n",
       "    .dataframe thead th {\n",
       "        text-align: right;\n",
       "    }\n",
       "</style>\n",
       "<table border=\"1\" class=\"dataframe\">\n",
       "  <thead>\n",
       "    <tr style=\"text-align: right;\">\n",
       "      <th></th>\n",
       "      <th></th>\n",
       "      <th>count</th>\n",
       "    </tr>\n",
       "    <tr>\n",
       "      <th>year</th>\n",
       "      <th>country</th>\n",
       "      <th></th>\n",
       "    </tr>\n",
       "  </thead>\n",
       "  <tbody>\n",
       "    <tr>\n",
       "      <th rowspan=\"5\" valign=\"top\">2015</th>\n",
       "      <th>australia</th>\n",
       "      <td>31</td>\n",
       "    </tr>\n",
       "    <tr>\n",
       "      <th>bahamas</th>\n",
       "      <td>3</td>\n",
       "    </tr>\n",
       "    <tr>\n",
       "      <th>brazil</th>\n",
       "      <td>2</td>\n",
       "    </tr>\n",
       "    <tr>\n",
       "      <th>south africa</th>\n",
       "      <td>10</td>\n",
       "    </tr>\n",
       "    <tr>\n",
       "      <th>usa</th>\n",
       "      <td>74</td>\n",
       "    </tr>\n",
       "    <tr>\n",
       "      <th rowspan=\"5\" valign=\"top\">2016</th>\n",
       "      <th>australia</th>\n",
       "      <td>32</td>\n",
       "    </tr>\n",
       "    <tr>\n",
       "      <th>bahamas</th>\n",
       "      <td>4</td>\n",
       "    </tr>\n",
       "    <tr>\n",
       "      <th>brazil</th>\n",
       "      <td>2</td>\n",
       "    </tr>\n",
       "    <tr>\n",
       "      <th>south africa</th>\n",
       "      <td>4</td>\n",
       "    </tr>\n",
       "    <tr>\n",
       "      <th>usa</th>\n",
       "      <td>65</td>\n",
       "    </tr>\n",
       "    <tr>\n",
       "      <th rowspan=\"5\" valign=\"top\">2017</th>\n",
       "      <th>australia</th>\n",
       "      <td>24</td>\n",
       "    </tr>\n",
       "    <tr>\n",
       "      <th>bahamas</th>\n",
       "      <td>9</td>\n",
       "    </tr>\n",
       "    <tr>\n",
       "      <th>brazil</th>\n",
       "      <td>2</td>\n",
       "    </tr>\n",
       "    <tr>\n",
       "      <th>south africa</th>\n",
       "      <td>7</td>\n",
       "    </tr>\n",
       "    <tr>\n",
       "      <th>usa</th>\n",
       "      <td>66</td>\n",
       "    </tr>\n",
       "    <tr>\n",
       "      <th rowspan=\"5\" valign=\"top\">2018</th>\n",
       "      <th>australia</th>\n",
       "      <td>39</td>\n",
       "    </tr>\n",
       "    <tr>\n",
       "      <th>bahamas</th>\n",
       "      <td>8</td>\n",
       "    </tr>\n",
       "    <tr>\n",
       "      <th>brazil</th>\n",
       "      <td>5</td>\n",
       "    </tr>\n",
       "    <tr>\n",
       "      <th>south africa</th>\n",
       "      <td>5</td>\n",
       "    </tr>\n",
       "    <tr>\n",
       "      <th>usa</th>\n",
       "      <td>43</td>\n",
       "    </tr>\n",
       "    <tr>\n",
       "      <th rowspan=\"5\" valign=\"top\">2019</th>\n",
       "      <th>australia</th>\n",
       "      <td>22</td>\n",
       "    </tr>\n",
       "    <tr>\n",
       "      <th>bahamas</th>\n",
       "      <td>4</td>\n",
       "    </tr>\n",
       "    <tr>\n",
       "      <th>brazil</th>\n",
       "      <td>2</td>\n",
       "    </tr>\n",
       "    <tr>\n",
       "      <th>south africa</th>\n",
       "      <td>5</td>\n",
       "    </tr>\n",
       "    <tr>\n",
       "      <th>usa</th>\n",
       "      <td>59</td>\n",
       "    </tr>\n",
       "    <tr>\n",
       "      <th rowspan=\"4\" valign=\"top\">2020</th>\n",
       "      <th>australia</th>\n",
       "      <td>30</td>\n",
       "    </tr>\n",
       "    <tr>\n",
       "      <th>bahamas</th>\n",
       "      <td>4</td>\n",
       "    </tr>\n",
       "    <tr>\n",
       "      <th>south africa</th>\n",
       "      <td>1</td>\n",
       "    </tr>\n",
       "    <tr>\n",
       "      <th>usa</th>\n",
       "      <td>49</td>\n",
       "    </tr>\n",
       "    <tr>\n",
       "      <th rowspan=\"5\" valign=\"top\">2021</th>\n",
       "      <th>australia</th>\n",
       "      <td>25</td>\n",
       "    </tr>\n",
       "    <tr>\n",
       "      <th>bahamas</th>\n",
       "      <td>1</td>\n",
       "    </tr>\n",
       "    <tr>\n",
       "      <th>brazil</th>\n",
       "      <td>5</td>\n",
       "    </tr>\n",
       "    <tr>\n",
       "      <th>south africa</th>\n",
       "      <td>3</td>\n",
       "    </tr>\n",
       "    <tr>\n",
       "      <th>usa</th>\n",
       "      <td>54</td>\n",
       "    </tr>\n",
       "    <tr>\n",
       "      <th rowspan=\"4\" valign=\"top\">2022</th>\n",
       "      <th>australia</th>\n",
       "      <td>21</td>\n",
       "    </tr>\n",
       "    <tr>\n",
       "      <th>bahamas</th>\n",
       "      <td>4</td>\n",
       "    </tr>\n",
       "    <tr>\n",
       "      <th>south africa</th>\n",
       "      <td>5</td>\n",
       "    </tr>\n",
       "    <tr>\n",
       "      <th>usa</th>\n",
       "      <td>52</td>\n",
       "    </tr>\n",
       "    <tr>\n",
       "      <th rowspan=\"5\" valign=\"top\">2023</th>\n",
       "      <th>australia</th>\n",
       "      <td>22</td>\n",
       "    </tr>\n",
       "    <tr>\n",
       "      <th>bahamas</th>\n",
       "      <td>5</td>\n",
       "    </tr>\n",
       "    <tr>\n",
       "      <th>brazil</th>\n",
       "      <td>3</td>\n",
       "    </tr>\n",
       "    <tr>\n",
       "      <th>south africa</th>\n",
       "      <td>3</td>\n",
       "    </tr>\n",
       "    <tr>\n",
       "      <th>usa</th>\n",
       "      <td>46</td>\n",
       "    </tr>\n",
       "    <tr>\n",
       "      <th rowspan=\"4\" valign=\"top\">2024</th>\n",
       "      <th>australia</th>\n",
       "      <td>8</td>\n",
       "    </tr>\n",
       "    <tr>\n",
       "      <th>bahamas</th>\n",
       "      <td>2</td>\n",
       "    </tr>\n",
       "    <tr>\n",
       "      <th>south africa</th>\n",
       "      <td>1</td>\n",
       "    </tr>\n",
       "    <tr>\n",
       "      <th>usa</th>\n",
       "      <td>11</td>\n",
       "    </tr>\n",
       "  </tbody>\n",
       "</table>\n",
       "</div>"
      ],
      "text/plain": [
       "                   count\n",
       "year country            \n",
       "2015 australia        31\n",
       "     bahamas           3\n",
       "     brazil            2\n",
       "     south africa     10\n",
       "     usa              74\n",
       "2016 australia        32\n",
       "     bahamas           4\n",
       "     brazil            2\n",
       "     south africa      4\n",
       "     usa              65\n",
       "2017 australia        24\n",
       "     bahamas           9\n",
       "     brazil            2\n",
       "     south africa      7\n",
       "     usa              66\n",
       "2018 australia        39\n",
       "     bahamas           8\n",
       "     brazil            5\n",
       "     south africa      5\n",
       "     usa              43\n",
       "2019 australia        22\n",
       "     bahamas           4\n",
       "     brazil            2\n",
       "     south africa      5\n",
       "     usa              59\n",
       "2020 australia        30\n",
       "     bahamas           4\n",
       "     south africa      1\n",
       "     usa              49\n",
       "2021 australia        25\n",
       "     bahamas           1\n",
       "     brazil            5\n",
       "     south africa      3\n",
       "     usa              54\n",
       "2022 australia        21\n",
       "     bahamas           4\n",
       "     south africa      5\n",
       "     usa              52\n",
       "2023 australia        22\n",
       "     bahamas           5\n",
       "     brazil            3\n",
       "     south africa      3\n",
       "     usa              46\n",
       "2024 australia         8\n",
       "     bahamas           2\n",
       "     south africa      1\n",
       "     usa              11"
      ]
     },
     "execution_count": 1024,
     "metadata": {},
     "output_type": "execute_result"
    }
   ],
   "source": [
    "since_2015_df"
   ]
  },
  {
   "cell_type": "code",
   "execution_count": 935,
   "id": "5ed1c3a0-3e87-4be3-aae2-80846652b410",
   "metadata": {},
   "outputs": [],
   "source": [
    "import matplotlib.pyplot as plt \n",
    "import seaborn as sns"
   ]
  },
  {
   "cell_type": "code",
   "execution_count": 1178,
   "id": "8f0b80ed-cf86-4475-ae37-9cf5f22288b2",
   "metadata": {},
   "outputs": [
    {
     "data": {
      "image/png": "[encoded data removed]",
      "text/plain": [
       "<Figure size 640x480 with 1 Axes>"
      ]
     },
     "metadata": {},
     "output_type": "display_data"
    }
   ],
   "source": [
    "sns.barplot(x='year', y='count', hue='year', data=since_2015_total_df,errorbar=None, legend = False)\n",
    "plt.show()"
   ]
  },
  {
   "cell_type": "code",
   "execution_count": 1020,
   "id": "a4ce7f04-03e1-418a-9453-cd2db16d20c1",
   "metadata": {},
   "outputs": [
    {
     "data": {
      "image/png": "[encoded data removed]",
      "text/plain": [
       "<Figure size 640x480 with 1 Axes>"
      ]
     },
     "metadata": {},
     "output_type": "display_data"
    }
   ],
   "source": [
    "sns.barplot(x='year', y='count', hue='country', data=since_2015_df, hue_order=top5_countries)\n",
    "plt.show()"
   ]
  },
  {
   "cell_type": "code",
   "execution_count": 1046,
   "id": "13521640-142a-4141-8516-e4abd37c0f3e",
   "metadata": {},
   "outputs": [
    {
     "data": {
      "text/html": [
       "<div>\n",
       "<style scoped>\n",
       "    .dataframe tbody tr th:only-of-type {\n",
       "        vertical-align: middle;\n",
       "    }\n",
       "\n",
       "    .dataframe tbody tr th {\n",
       "        vertical-align: top;\n",
       "    }\n",
       "\n",
       "    .dataframe thead th {\n",
       "        text-align: right;\n",
       "    }\n",
       "</style>\n",
       "<table border=\"1\" class=\"dataframe\">\n",
       "  <thead>\n",
       "    <tr style=\"text-align: right;\">\n",
       "      <th></th>\n",
       "      <th>count</th>\n",
       "    </tr>\n",
       "    <tr>\n",
       "      <th>injury</th>\n",
       "      <th></th>\n",
       "    </tr>\n",
       "  </thead>\n",
       "  <tbody>\n",
       "    <tr>\n",
       "      <th>fatal</th>\n",
       "      <td>53</td>\n",
       "    </tr>\n",
       "    <tr>\n",
       "      <th>injured</th>\n",
       "      <td>675</td>\n",
       "    </tr>\n",
       "    <tr>\n",
       "      <th>no-injury</th>\n",
       "      <td>145</td>\n",
       "    </tr>\n",
       "    <tr>\n",
       "      <th>unknown</th>\n",
       "      <td>9</td>\n",
       "    </tr>\n",
       "  </tbody>\n",
       "</table>\n",
       "</div>"
      ],
      "text/plain": [
       "           count\n",
       "injury          \n",
       "fatal         53\n",
       "injured      675\n",
       "no-injury    145\n",
       "unknown        9"
      ]
     },
     "execution_count": 1046,
     "metadata": {},
     "output_type": "execute_result"
    }
   ],
   "source": [
    "injuries_df = last10top5_df.groupby([\"injury\"])['injury'].agg(['count'])\n",
    "injuries_df"
   ]
  },
  {
   "cell_type": "code",
   "execution_count": 1132,
   "id": "0b0017fc-1e9b-4562-b480-a71587a2204f",
   "metadata": {},
   "outputs": [
    {
     "data": {
      "text/plain": [
       "array([<Axes: ylabel='count'>], dtype=object)"
      ]
     },
     "execution_count": 1132,
     "metadata": {},
     "output_type": "execute_result"
    },
    {
     "data": {
      "image/png": "[encoded data removed]",
      "text/plain": [
       "<Figure size 640x480 with 1 Axes>"
      ]
     },
     "metadata": {},
     "output_type": "display_data"
    }
   ],
   "source": [
    "injuries_df.plot.pie(subplots=True, title = \"Attacks last 10 years\")"
   ]
  },
  {
   "cell_type": "code",
   "execution_count": 1086,
   "id": "b9cf58bd-4267-42fe-8690-b3afe5bef863",
   "metadata": {
    "scrolled": true
   },
   "outputs": [],
   "source": [
    "#sns.barplot(x='injury', y='count', hue='injury', data=injuries_df, errorbar=None)\n",
    "#plt.show()"
   ]
  },
  {
   "cell_type": "code",
   "execution_count": 1180,
   "id": "3d406dfe-c192-4082-b99a-e307e69ebf08",
   "metadata": {},
   "outputs": [
    {
     "data": {
      "text/html": [
       "<div>\n",
       "<style scoped>\n",
       "    .dataframe tbody tr th:only-of-type {\n",
       "        vertical-align: middle;\n",
       "    }\n",
       "\n",
       "    .dataframe tbody tr th {\n",
       "        vertical-align: top;\n",
       "    }\n",
       "\n",
       "    .dataframe thead th {\n",
       "        text-align: right;\n",
       "    }\n",
       "</style>\n",
       "<table border=\"1\" class=\"dataframe\">\n",
       "  <thead>\n",
       "    <tr style=\"text-align: right;\">\n",
       "      <th></th>\n",
       "      <th>count</th>\n",
       "    </tr>\n",
       "    <tr>\n",
       "      <th>injury</th>\n",
       "      <th></th>\n",
       "    </tr>\n",
       "  </thead>\n",
       "  <tbody>\n",
       "    <tr>\n",
       "      <th>fatal</th>\n",
       "      <td>12</td>\n",
       "    </tr>\n",
       "    <tr>\n",
       "      <th>injured</th>\n",
       "      <td>440</td>\n",
       "    </tr>\n",
       "    <tr>\n",
       "      <th>no-injury</th>\n",
       "      <td>64</td>\n",
       "    </tr>\n",
       "    <tr>\n",
       "      <th>unknown</th>\n",
       "      <td>3</td>\n",
       "    </tr>\n",
       "  </tbody>\n",
       "</table>\n",
       "</div>"
      ],
      "text/plain": [
       "           count\n",
       "injury          \n",
       "fatal         12\n",
       "injured      440\n",
       "no-injury     64\n",
       "unknown        3"
      ]
     },
     "execution_count": 1180,
     "metadata": {},
     "output_type": "execute_result"
    },
    {
     "data": {
      "image/png": "[encoded data removed]",
      "text/plain": [
       "<Figure size 640x480 with 1 Axes>"
      ]
     },
     "metadata": {},
     "output_type": "display_data"
    }
   ],
   "source": [
    "last10_usa_df = last10top5_df[last10top5_df.country == \"usa\"]\n",
    "injuries_usa_df = last10_usa_df.groupby([\"injury\"])['injury'].agg(['count'])\n",
    "injuries_usa_df['count'].sum()\n",
    "injuries_usa_df.plot.pie(y=\"count\", title = \"Attacks USA last 10 years\")\n",
    "injuries_usa_df"
   ]
  },
  {
   "cell_type": "code",
   "execution_count": 1134,
   "id": "df189fcb-3f27-46b5-9e73-8cd07f598326",
   "metadata": {},
   "outputs": [
    {
     "data": {
      "text/html": [
       "<div>\n",
       "<style scoped>\n",
       "    .dataframe tbody tr th:only-of-type {\n",
       "        vertical-align: middle;\n",
       "    }\n",
       "\n",
       "    .dataframe tbody tr th {\n",
       "        vertical-align: top;\n",
       "    }\n",
       "\n",
       "    .dataframe thead th {\n",
       "        text-align: right;\n",
       "    }\n",
       "</style>\n",
       "<table border=\"1\" class=\"dataframe\">\n",
       "  <thead>\n",
       "    <tr style=\"text-align: right;\">\n",
       "      <th></th>\n",
       "      <th>count</th>\n",
       "    </tr>\n",
       "    <tr>\n",
       "      <th>injury</th>\n",
       "      <th></th>\n",
       "    </tr>\n",
       "  </thead>\n",
       "  <tbody>\n",
       "    <tr>\n",
       "      <th>fatal</th>\n",
       "      <td>26</td>\n",
       "    </tr>\n",
       "    <tr>\n",
       "      <th>injured</th>\n",
       "      <td>159</td>\n",
       "    </tr>\n",
       "    <tr>\n",
       "      <th>no-injury</th>\n",
       "      <td>65</td>\n",
       "    </tr>\n",
       "    <tr>\n",
       "      <th>unknown</th>\n",
       "      <td>4</td>\n",
       "    </tr>\n",
       "  </tbody>\n",
       "</table>\n",
       "</div>"
      ],
      "text/plain": [
       "           count\n",
       "injury          \n",
       "fatal         26\n",
       "injured      159\n",
       "no-injury     65\n",
       "unknown        4"
      ]
     },
     "execution_count": 1134,
     "metadata": {},
     "output_type": "execute_result"
    },
    {
     "data": {
      "image/png": "[encoded data removed]",
      "text/plain": [
       "<Figure size 640x480 with 1 Axes>"
      ]
     },
     "metadata": {},
     "output_type": "display_data"
    }
   ],
   "source": [
    "last10_aus_df = last10top5_df[last10top5_df.country == \"australia\"]\n",
    "injuries_aus_df = last10_aus_df.groupby([\"injury\"])['injury'].agg(['count'])\n",
    "injuries_aus_df.plot.pie(y=\"count\", title = \"Attacks Australia last 10 years\")\n",
    "injuries_aus_df"
   ]
  },
  {
   "cell_type": "code",
   "execution_count": 1184,
   "id": "050088f4-01d3-4863-93b5-5e6edcec8750",
   "metadata": {},
   "outputs": [],
   "source": [
    "last10top2_df = final_df[(final_df[\"year\"] >= 2015) & (final_df[\"year\"] <= 2024) & (final_df[\"country\"].isin(top2_countries))]"
   ]
  },
  {
   "cell_type": "code",
   "execution_count": 1230,
   "id": "ac2f1726-00af-4505-b19d-dfc266f981c4",
   "metadata": {},
   "outputs": [
    {
     "data": {
      "text/html": [
       "<div>\n",
       "<style scoped>\n",
       "    .dataframe tbody tr th:only-of-type {\n",
       "        vertical-align: middle;\n",
       "    }\n",
       "\n",
       "    .dataframe tbody tr th {\n",
       "        vertical-align: top;\n",
       "    }\n",
       "\n",
       "    .dataframe thead th {\n",
       "        text-align: right;\n",
       "    }\n",
       "</style>\n",
       "<table border=\"1\" class=\"dataframe\">\n",
       "  <thead>\n",
       "    <tr style=\"text-align: right;\">\n",
       "      <th></th>\n",
       "      <th></th>\n",
       "      <th>count</th>\n",
       "    </tr>\n",
       "    <tr>\n",
       "      <th>country</th>\n",
       "      <th>activity</th>\n",
       "      <th></th>\n",
       "    </tr>\n",
       "  </thead>\n",
       "  <tbody>\n",
       "    <tr>\n",
       "      <th rowspan=\"3\" valign=\"top\">usa</th>\n",
       "      <th>surfing</th>\n",
       "      <td>169</td>\n",
       "    </tr>\n",
       "    <tr>\n",
       "      <th>swimming</th>\n",
       "      <td>115</td>\n",
       "    </tr>\n",
       "    <tr>\n",
       "      <th>fishing</th>\n",
       "      <td>65</td>\n",
       "    </tr>\n",
       "    <tr>\n",
       "      <th rowspan=\"3\" valign=\"top\">australia</th>\n",
       "      <th>surfing</th>\n",
       "      <td>107</td>\n",
       "    </tr>\n",
       "    <tr>\n",
       "      <th>fishing</th>\n",
       "      <td>46</td>\n",
       "    </tr>\n",
       "    <tr>\n",
       "      <th>swimming</th>\n",
       "      <td>36</td>\n",
       "    </tr>\n",
       "  </tbody>\n",
       "</table>\n",
       "</div>"
      ],
      "text/plain": [
       "                    count\n",
       "country   activity       \n",
       "usa       surfing     169\n",
       "          swimming    115\n",
       "          fishing      65\n",
       "australia surfing     107\n",
       "          fishing      46\n",
       "          swimming     36"
      ]
     },
     "execution_count": 1230,
     "metadata": {},
     "output_type": "execute_result"
    }
   ],
   "source": [
    "since_2015_activities_df = last10top2_df.groupby([ \"country\", 'activity'])['activity'].agg(['count'])\n",
    "since_2015_activities_df = since_2015_activities_df[since_2015_activities_df[\"count\"] >= 35]\n",
    "since_2015_activities_df.sort_values(by= [\"country\", \"count\"], ascending= False)"
   ]
  },
  {
   "cell_type": "code",
   "execution_count": 1238,
   "id": "1949f747-6a10-4129-955f-1df015dd0d29",
   "metadata": {},
   "outputs": [
    {
     "data": {
      "image/png": "[encoded data removed]",
      "text/plain": [
       "<Figure size 640x480 with 1 Axes>"
      ]
     },
     "metadata": {},
     "output_type": "display_data"
    }
   ],
   "source": [
    "sns.barplot(x='activity', y='count', hue='country', data=since_2015_activities_df,errorbar=None, order=[\"surfing\", \"swimming\", \"fishing\"], hue_order=top2_countries)\n",
    "plt.show()"
   ]
  },
  {
   "cell_type": "code",
   "execution_count": null,
   "id": "918ab1e8-4396-41a6-9991-5eb27a7f260a",
   "metadata": {},
   "outputs": [],
   "source": []
  },
  {
   "cell_type": "code",
   "execution_count": null,
   "id": "6b8d6b48-b96e-4955-85de-04ae4b6166cd",
   "metadata": {},
   "outputs": [],
   "source": []
  },
  {
   "cell_type": "code",
   "execution_count": null,
   "id": "fcda6660-0b81-40ef-8ceb-cd4c1e8d84ad",
   "metadata": {},
   "outputs": [],
   "source": []
  },
  {
   "cell_type": "code",
   "execution_count": null,
   "id": "dc40397e-8437-405d-9ce9-b12cd3db1002",
   "metadata": {},
   "outputs": [],
   "source": []
  },
  {
   "cell_type": "code",
   "execution_count": null,
   "id": "15b2f755-76ed-4ab5-a388-5f334774f09a",
   "metadata": {},
   "outputs": [],
   "source": []
  },
  {
   "cell_type": "code",
   "execution_count": null,
   "id": "ecd06174-69cd-4499-be41-298a7723fdc7",
   "metadata": {},
   "outputs": [],
   "source": []
  },
  {
   "cell_type": "code",
   "execution_count": null,
   "id": "4fa7f5cd-aba3-4074-9efc-abebb15b89b7",
   "metadata": {},
   "outputs": [],
   "source": []
  },
  {
   "cell_type": "code",
   "execution_count": null,
   "id": "d7674000-5c30-4955-a437-1f9866f09021",
   "metadata": {},
   "outputs": [],
   "source": []
  },
  {
   "cell_type": "code",
   "execution_count": null,
   "id": "a1762736-f67c-4821-a983-2d1459530b21",
   "metadata": {},
   "outputs": [],
   "source": []
  },
  {
   "cell_type": "code",
   "execution_count": null,
   "id": "d6104b70-44a8-44e6-b93f-ac58eb70c3b1",
   "metadata": {},
   "outputs": [],
   "source": []
  },
  {
   "cell_type": "code",
   "execution_count": null,
   "id": "099e2026-b2b1-4baf-82af-7e0173a94a94",
   "metadata": {},
   "outputs": [],
   "source": []
  },
  {
   "cell_type": "code",
   "execution_count": null,
   "id": "726ff920-83b8-4757-ae7b-dd717f53fd9f",
   "metadata": {},
   "outputs": [],
   "source": []
  },
  {
   "cell_type": "code",
   "execution_count": null,
   "id": "b6a0cec5-1a0d-4568-8ccd-0330cc39d1d8",
   "metadata": {},
   "outputs": [],
   "source": []
  },
  {
   "cell_type": "code",
   "execution_count": null,
   "id": "1eb9552d-e1c2-4363-b82e-679f83eaedf6",
   "metadata": {},
   "outputs": [],
   "source": []
  },
  {
   "cell_type": "code",
   "execution_count": null,
   "id": "3b78fc0f-29f1-4521-bfe5-9844e1f43a3c",
   "metadata": {},
   "outputs": [],
   "source": []
  },
  {
   "cell_type": "code",
   "execution_count": null,
   "id": "baf62fb7-bfb6-4cdb-83c0-49c78f3f59ce",
   "metadata": {},
   "outputs": [],
   "source": []
  }
 ],
 "metadata": {
  "kernelspec": {
   "display_name": "Python 3 (ipykernel)",
   "language": "python",
   "name": "python3"
  },
  "language_info": {
   "codemirror_mode": {
    "name": "ipython",
    "version": 3
   },
   "file_extension": ".py",
   "mimetype": "text/x-python",
   "name": "python",
   "nbconvert_exporter": "python",
   "pygments_lexer": "ipython3",
   "version": "3.12.4"
  }
 },
 "nbformat": 4,
 "nbformat_minor": 5
}
